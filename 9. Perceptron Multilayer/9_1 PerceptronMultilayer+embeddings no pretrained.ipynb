{
 "cells": [
  {
   "cell_type": "code",
   "execution_count": 3,
   "metadata": {
    "scrolled": true
   },
   "outputs": [],
   "source": [
    "#librerías, no es necesario volverlas a importar\n",
    "\n",
    "import pandas as pd\n",
    "import os\n",
    "import gc\n",
    "import numpy as np\n",
    "import matplotlib.pyplot as plt\n",
    "plt.style.use('ggplot')\n",
    "\n",
    "\n",
    "\n",
    "from keras.preprocessing.text import Tokenizer\n",
    "from keras.preprocessing.text import text_to_word_sequence\n",
    "from keras.preprocessing.sequence import pad_sequences\n",
    "from keras.layers import Dense, Input, LSTM, Embedding, Dropout, Activation, Conv1D\n",
    "from keras.layers import Bidirectional, GlobalMaxPool1D\n",
    "from keras.models import Model\n",
    "from keras.optimizers import Adam, SGD\n",
    "from keras.optimizers.schedules import ExponentialDecay\n",
    "from keras import initializers, regularizers, constraints, optimizers, layers, Sequential\n",
    "\n",
    "from gensim.models import Word2Vec\n",
    "\n"
   ]
  },
  {
   "cell_type": "code",
   "execution_count": 4,
   "metadata": {},
   "outputs": [
    {
     "name": "stderr",
     "output_type": "stream",
     "text": [
      "[nltk_data] Downloading package punkt to /home/celeste/nltk_data...\n",
      "[nltk_data]   Package punkt is already up-to-date!\n",
      "[nltk_data] Downloading package stopwords to\n",
      "[nltk_data]     /home/celeste/nltk_data...\n",
      "[nltk_data]   Package stopwords is already up-to-date!\n",
      "[nltk_data] Downloading package wordnet to /home/celeste/nltk_data...\n",
      "[nltk_data]   Package wordnet is already up-to-date!\n"
     ]
    }
   ],
   "source": [
    "data_loader = os.path.join('..','0_Data','0_DataLoader.ipynb')\n",
    "#Vectorizacion\n",
    "%run $data_loader"
   ]
  },
  {
   "cell_type": "code",
   "execution_count": 5,
   "metadata": {},
   "outputs": [],
   "source": []
  },
  {
   "cell_type": "code",
   "execution_count": 6,
   "metadata": {},
   "outputs": [],
   "source": [
    "def plot_history(history):\n",
    "    acc = history.history['accuracy']\n",
    "    loss = history.history['loss']\n",
    "    x = range(1, len(acc) + 1)\n",
    "\n",
    "    plt.figure(figsize=(12, 5))\n",
    "    plt.plot(x, acc, 'r', label='Training acc')\n",
    "    plt.plot(x, loss, 'b', label='Training loss')\n",
    "    plt.title('Training accuracy vs loss')\n",
    "    plt.legend()"
   ]
  },
  {
   "cell_type": "code",
   "execution_count": 41,
   "metadata": {},
   "outputs": [
    {
     "data": {
      "text/plain": [
       "22701"
      ]
     },
     "execution_count": 41,
     "metadata": {},
     "output_type": "execute_result"
    }
   ],
   "source": [
    "tokenizer = Tokenizer(num_words=100000)\n",
    "tokenizer.fit_on_texts(list(data.x_train) + list(data.x_val) + list(data.x_test))\n",
    "len(tokenizer.word_index) + 1"
   ]
  },
  {
   "cell_type": "code",
   "execution_count": 7,
   "metadata": {},
   "outputs": [],
   "source": [
    "def run_model (train_x, train_y, val_x, val_y, test_x, test_y,\n",
    "               embed_size, max_features, max_len, \n",
    "               batch_size, activationl1, nneuronsl1, epochs ):\n",
    "    ## Tokenize the sentences\n",
    "    tokenizer = Tokenizer(num_words=max_features)\n",
    "    tokenizer.fit_on_texts(list(train_x) + list(val_x))\n",
    "\n",
    "    train_X = tokenizer.texts_to_sequences(train_x)\n",
    "    train_X = pad_sequences(train_X, maxlen=max_len)\n",
    "\n",
    "    val_X = tokenizer.texts_to_sequences(val_x)\n",
    "    val_X = pad_sequences(val_X, maxlen=max_len)\n",
    "    \n",
    "    test_X = tokenizer.texts_to_sequences(test_x)\n",
    "    test_X = pad_sequences(test_X, maxlen=max_len)\n",
    "\n",
    "    model = Sequential()\n",
    "    model.add(layers.Embedding(input_dim=max_features, \n",
    "                               output_dim=embed_size, \n",
    "                               input_length=max_len))\n",
    "    model.add(layers.Flatten())\n",
    "    model.add(layers.Dense(nneuronsl1, activation=activationl1))\n",
    "    model.add(layers.Dense(1, activation='sigmoid'))\n",
    "    \n",
    "    lr_schedule = ExponentialDecay(\n",
    "        0.001,\n",
    "        decay_steps=100000,\n",
    "        decay_rate=0.96,\n",
    "        staircase=True)\n",
    "    opt = Adam(learning_rate=lr_schedule)\n",
    "    #opt = SGD()\n",
    "    model.compile(optimizer=opt,\n",
    "                  loss='binary_crossentropy',\n",
    "                  metrics=['accuracy'],\n",
    "                  \n",
    "                 )\n",
    "    #model.summary()\n",
    "\n",
    "    history = model.fit(train_X, train_y,\n",
    "                        epochs=epochs,\n",
    "                        batch_size=batch_size,\n",
    "                       validation_data=(val_X, val_y),\n",
    "                       verbose=False)\n",
    "\n",
    "    #plot_history(history)\n",
    "\n",
    "    loss, accuracy = model.evaluate(train_X, train_y, verbose=False)\n",
    "    print(\"Training Accuracy: {:.4f}\".format(accuracy))\n",
    "    \n",
    "    loss, accuracy = model.evaluate(test_X, test_y, verbose=False)\n",
    "    print(\"Testing Accuracy: {:.4f}\".format(accuracy))\n",
    "    #test_pred_y = (model.predict(test_X, batch_size=1024, verbose=1) > 0.5).astype(\"int32\")\n",
    "    #print(\"Report: \\n{}\".format(classification_report(test_y, test_pred_y)))\n",
    "    return model, tokenizer"
   ]
  },
  {
   "cell_type": "markdown",
   "metadata": {},
   "source": [
    "# 1. Datos Originales"
   ]
  },
  {
   "cell_type": "code",
   "execution_count": 70,
   "metadata": {},
   "outputs": [],
   "source": [
    "# Se cargan los datos \n",
    "\n",
    "data = get_data_original_as_np_array()\n"
   ]
  },
  {
   "cell_type": "markdown",
   "metadata": {},
   "source": [
    "## 1.1 Comienzo con una cantidad de parametros grande\n",
    "\n",
    "- vimos en el tp1 que los tweets tienen como máximo unas 35 palabras de modo que tomamos max_len = 50\n",
    "- vimos tambien en el tp1 que el vocabulario es de aprox. 100.000 palabras pero el tokenizador reconoce 22700 así que comenzamos con un max_features = 30.000"
   ]
  },
  {
   "cell_type": "code",
   "execution_count": null,
   "metadata": {},
   "outputs": [],
   "source": []
  },
  {
   "cell_type": "code",
   "execution_count": 42,
   "metadata": {
    "scrolled": false
   },
   "outputs": [
    {
     "name": "stdout",
     "output_type": "stream",
     "text": [
      "Model: \"sequential_16\"\n",
      "_________________________________________________________________\n",
      "Layer (type)                 Output Shape              Param #   \n",
      "=================================================================\n",
      "embedding_16 (Embedding)     (None, 50, 300)           9000000   \n",
      "_________________________________________________________________\n",
      "flatten_16 (Flatten)         (None, 15000)             0         \n",
      "_________________________________________________________________\n",
      "dense_32 (Dense)             (None, 16)                240016    \n",
      "_________________________________________________________________\n",
      "dense_33 (Dense)             (None, 1)                 17        \n",
      "=================================================================\n",
      "Total params: 9,240,033\n",
      "Trainable params: 9,240,033\n",
      "Non-trainable params: 0\n",
      "_________________________________________________________________\n",
      "Training Accuracy: 0.9977\n",
      "Testing Accuracy: 0.7781\n"
     ]
    },
    {
     "data": {
      "image/png": "[encoded data removed]",
      "text/plain": [
       "<Figure size 864x360 with 1 Axes>"
      ]
     },
     "metadata": {},
     "output_type": "display_data"
    }
   ],
   "source": [
    "model, tokenizer = run_model(data.x_train,data.y_train, data.x_val, data.y_val, data.x_test, data.y_test,\n",
    "                             embed_size = 300, max_features=30000, max_len = 50,\n",
    "                            batch_size = 512, nneuronsl1=16, activationl1='relu', epochs=20)"
   ]
  },
  {
   "cell_type": "markdown",
   "metadata": {},
   "source": [
    "## 1.2. Busco reducir la cantidad de parametros para reducir el overfitting"
   ]
  },
  {
   "cell_type": "markdown",
   "metadata": {},
   "source": [
    "### 1.2.1 pruebo reduciendo max_features"
   ]
  },
  {
   "cell_type": "code",
   "execution_count": 11,
   "metadata": {},
   "outputs": [],
   "source": [
    "def test_max_features(start, end, step):\n",
    "    for i in range (start, end, step):\n",
    "        print (\"max_features = {}\".format(i) )\n",
    "        run_model(data.x_train,data.y_train, data.x_val, data.y_val, data.x_test, data.y_test,\n",
    "                             embed_size = 300, max_features=i, max_len = 50,\n",
    "                            batch_size = 512, nneuronsl1=16, activationl1='relu', epochs=20)\n",
    "        "
   ]
  },
  {
   "cell_type": "code",
   "execution_count": 51,
   "metadata": {
    "scrolled": false
   },
   "outputs": [
    {
     "name": "stdout",
     "output_type": "stream",
     "text": [
      "Model: \"sequential_23\"\n",
      "_________________________________________________________________\n",
      "Layer (type)                 Output Shape              Param #   \n",
      "=================================================================\n",
      "embedding_23 (Embedding)     (None, 50, 300)           3000000   \n",
      "_________________________________________________________________\n",
      "flatten_23 (Flatten)         (None, 15000)             0         \n",
      "_________________________________________________________________\n",
      "dense_46 (Dense)             (None, 16)                240016    \n",
      "_________________________________________________________________\n",
      "dense_47 (Dense)             (None, 1)                 17        \n",
      "=================================================================\n",
      "Total params: 3,240,033\n",
      "Trainable params: 3,240,033\n",
      "Non-trainable params: 0\n",
      "_________________________________________________________________\n",
      "Training Accuracy: 0.9940\n",
      "Testing Accuracy: 0.7814\n"
     ]
    },
    {
     "data": {
      "image/png": "[encoded data removed]",
      "text/plain": [
       "<Figure size 864x360 with 1 Axes>"
      ]
     },
     "metadata": {},
     "output_type": "display_data"
    }
   ],
   "source": [
    "model, tokenizer = run_model(data.x_train,data.y_train, data.x_val, data.y_val, data.x_test, data.y_test,\n",
    "                             embed_size = 300, max_features=10000, max_len = 50,\n",
    "                            batch_size = 512, nneuronsl1=16, activationl1='relu', epochs=20)"
   ]
  },
  {
   "cell_type": "code",
   "execution_count": 9,
   "metadata": {
    "scrolled": true
   },
   "outputs": [
    {
     "name": "stdout",
     "output_type": "stream",
     "text": [
      "max_features = 5000\n",
      "Training Accuracy: 0.9887\n",
      "Testing Accuracy: 0.7676\n",
      "max_features = 10000\n",
      "Training Accuracy: 0.9940\n",
      "Testing Accuracy: 0.7794\n",
      "max_features = 15000\n",
      "Training Accuracy: 0.9961\n",
      "Testing Accuracy: 0.6632\n",
      "max_features = 20000\n",
      "Training Accuracy: 0.9977\n",
      "Testing Accuracy: 0.7663\n",
      "max_features = 25000\n",
      "Training Accuracy: 0.9977\n",
      "Testing Accuracy: 0.7695\n"
     ]
    }
   ],
   "source": [
    "test_max_features(5000, 30000, 5000)"
   ]
  },
  {
   "cell_type": "code",
   "execution_count": 12,
   "metadata": {},
   "outputs": [
    {
     "name": "stdout",
     "output_type": "stream",
     "text": [
      "max_features = 10000\n",
      "Training Accuracy: 0.9936\n",
      "Testing Accuracy: 0.7807\n",
      "max_features = 12000\n",
      "Training Accuracy: 0.9951\n",
      "Testing Accuracy: 0.7833\n",
      "max_features = 14000\n",
      "Training Accuracy: 0.9971\n",
      "Testing Accuracy: 0.7846\n",
      "max_features = 16000\n",
      "Training Accuracy: 0.9977\n",
      "Testing Accuracy: 0.7715\n",
      "max_features = 18000\n",
      "Training Accuracy: 0.9977\n",
      "Testing Accuracy: 0.7695\n",
      "max_features = 20000\n",
      "Training Accuracy: 0.9977\n",
      "Testing Accuracy: 0.7754\n"
     ]
    }
   ],
   "source": [
    "test_max_features(10000, 20001, 2000)"
   ]
  },
  {
   "cell_type": "code",
   "execution_count": 13,
   "metadata": {},
   "outputs": [
    {
     "name": "stdout",
     "output_type": "stream",
     "text": [
      "max_features = 9000\n",
      "Training Accuracy: 0.9932\n",
      "Testing Accuracy: 0.7728\n",
      "max_features = 9500\n",
      "Training Accuracy: 0.9934\n",
      "Testing Accuracy: 0.7814\n",
      "max_features = 10000\n",
      "Training Accuracy: 0.9940\n",
      "Testing Accuracy: 0.7840\n",
      "max_features = 10500\n",
      "Training Accuracy: 0.9943\n",
      "Testing Accuracy: 0.7768\n",
      "max_features = 11000\n",
      "Training Accuracy: 0.9943\n",
      "Testing Accuracy: 0.7873\n",
      "max_features = 11500\n",
      "Training Accuracy: 0.9947\n",
      "Testing Accuracy: 0.7748\n",
      "max_features = 12000\n",
      "Training Accuracy: 0.9945\n",
      "Testing Accuracy: 0.7032\n",
      "max_features = 12500\n",
      "Training Accuracy: 0.9957\n",
      "Testing Accuracy: 0.7873\n",
      "max_features = 13000\n",
      "Training Accuracy: 0.9967\n",
      "Testing Accuracy: 0.7833\n",
      "max_features = 13500\n",
      "Training Accuracy: 0.9973\n",
      "Testing Accuracy: 0.7840\n",
      "max_features = 14000\n",
      "Training Accuracy: 0.9975\n",
      "Testing Accuracy: 0.7827\n"
     ]
    }
   ],
   "source": [
    "test_max_features(9000, 14001, 500)"
   ]
  },
  {
   "cell_type": "markdown",
   "metadata": {},
   "source": [
    "### 1.2.2 Pruebo reduciendo max_len\n",
    "\n",
    "- Tomo como valor el valor medio de la cantidad de palabras calculado en el tp1"
   ]
  },
  {
   "cell_type": "code",
   "execution_count": 14,
   "metadata": {},
   "outputs": [
    {
     "name": "stdout",
     "output_type": "stream",
     "text": [
      "Training Accuracy: 0.9955\n",
      "Testing Accuracy: 0.7617\n"
     ]
    }
   ],
   "source": [
    "model, tokenizer = run_model(data.x_train,data.y_train, data.x_val, data.y_val, data.x_test, data.y_test,\n",
    "                             embed_size = 300, max_features=12500, max_len = 15,\n",
    "                            batch_size = 512, nneuronsl1=16, activationl1='relu', epochs=20)"
   ]
  },
  {
   "cell_type": "code",
   "execution_count": 16,
   "metadata": {},
   "outputs": [
    {
     "name": "stdout",
     "output_type": "stream",
     "text": [
      "Training Accuracy: 0.9828\n",
      "Testing Accuracy: 0.6645\n"
     ]
    }
   ],
   "source": [
    "model, tokenizer = run_model(data.x_train,data.y_train, data.x_val, data.y_val, data.x_test, data.y_test,\n",
    "                             embed_size = 300, max_features=12500, max_len = 5,\n",
    "                            batch_size = 512, nneuronsl1=16, activationl1='relu', epochs=20)"
   ]
  },
  {
   "cell_type": "code",
   "execution_count": 20,
   "metadata": {},
   "outputs": [
    {
     "name": "stdout",
     "output_type": "stream",
     "text": [
      "Training Accuracy: 0.9959\n",
      "Testing Accuracy: 0.7728\n"
     ]
    }
   ],
   "source": [
    "model, tokenizer = run_model(data.x_train,data.y_train, data.x_val, data.y_val, data.x_test, data.y_test,\n",
    "                             embed_size = 300, max_features=12500, max_len = 30,\n",
    "                            batch_size = 512, nneuronsl1=16, activationl1='relu', epochs=20)"
   ]
  },
  {
   "cell_type": "markdown",
   "metadata": {},
   "source": [
    "### 1.2.3 Pruebo reduciendo embed_size \n",
    "\n",
    "- Tamaño del vector de embeddings"
   ]
  },
  {
   "cell_type": "code",
   "execution_count": 21,
   "metadata": {},
   "outputs": [],
   "source": [
    "def test_embed_size(start, end, step):\n",
    "    for i in range (start, end, step):\n",
    "        print (\"embed_size = {}\".format(i) )\n",
    "        run_model(data.x_train,data.y_train, data.x_val, data.y_val, data.x_test, data.y_test,\n",
    "                             embed_size = i, max_features=12500, max_len = 50,\n",
    "                            batch_size = 512, nneuronsl1=16, activationl1='relu', epochs=20)"
   ]
  },
  {
   "cell_type": "code",
   "execution_count": 23,
   "metadata": {},
   "outputs": [
    {
     "name": "stdout",
     "output_type": "stream",
     "text": [
      "embed_size = 100\n",
      "Training Accuracy: 0.9957\n",
      "Testing Accuracy: 0.7886\n",
      "embed_size = 150\n",
      "Training Accuracy: 0.9957\n",
      "Testing Accuracy: 0.7859\n",
      "embed_size = 200\n",
      "Training Accuracy: 0.9959\n",
      "Testing Accuracy: 0.7807\n",
      "embed_size = 250\n",
      "Training Accuracy: 0.9957\n",
      "Testing Accuracy: 0.7866\n",
      "embed_size = 300\n",
      "Training Accuracy: 0.9953\n",
      "Testing Accuracy: 0.7078\n"
     ]
    }
   ],
   "source": [
    "test_embed_size(100, 301, 50)"
   ]
  },
  {
   "cell_type": "code",
   "execution_count": 24,
   "metadata": {
    "scrolled": true
   },
   "outputs": [
    {
     "name": "stdout",
     "output_type": "stream",
     "text": [
      "embed_size = 50\n",
      "Training Accuracy: 0.9957\n",
      "Testing Accuracy: 0.7814\n",
      "embed_size = 60\n",
      "Training Accuracy: 0.9957\n",
      "Testing Accuracy: 0.7787\n",
      "embed_size = 70\n",
      "Training Accuracy: 0.9949\n",
      "Testing Accuracy: 0.7912\n",
      "embed_size = 80\n",
      "Training Accuracy: 0.9957\n",
      "Testing Accuracy: 0.7781\n",
      "embed_size = 90\n",
      "Training Accuracy: 0.9953\n",
      "Testing Accuracy: 0.7833\n",
      "embed_size = 100\n",
      "Training Accuracy: 0.9957\n",
      "Testing Accuracy: 0.7794\n",
      "embed_size = 110\n",
      "Training Accuracy: 0.9957\n",
      "Testing Accuracy: 0.7689\n"
     ]
    }
   ],
   "source": [
    "test_embed_size(50, 120, 10)"
   ]
  },
  {
   "cell_type": "markdown",
   "metadata": {},
   "source": [
    "### 1.2.4 Pruebo variando de a 2 variables \n",
    "\n"
   ]
  },
  {
   "cell_type": "code",
   "execution_count": 37,
   "metadata": {},
   "outputs": [
    {
     "name": "stdout",
     "output_type": "stream",
     "text": [
      "Training Accuracy: 0.9959\n",
      "Testing Accuracy: 0.7840\n"
     ]
    }
   ],
   "source": [
    "model, tokenizer = run_model(data.x_train,data.y_train, data.x_val, data.y_val, data.x_test, data.y_test,\n",
    "                             embed_size = 70, max_features=12500, max_len = 50,\n",
    "                            batch_size = 512, nneuronsl1=16, activationl1='relu', epochs=20)"
   ]
  },
  {
   "cell_type": "code",
   "execution_count": 63,
   "metadata": {},
   "outputs": [
    {
     "name": "stdout",
     "output_type": "stream",
     "text": [
      "Training Accuracy: 0.9938\n",
      "Testing Accuracy: 0.7899\n"
     ]
    }
   ],
   "source": [
    "model, tokenizer = run_model(data.x_train,data.y_train, data.x_val, data.y_val, data.x_test, data.y_test,\n",
    "                             embed_size = 70, max_features=11000, max_len = 50,\n",
    "                            batch_size = 512, nneuronsl1=16, activationl1='relu', epochs=20)"
   ]
  },
  {
   "cell_type": "code",
   "execution_count": 66,
   "metadata": {},
   "outputs": [
    {
     "name": "stdout",
     "output_type": "stream",
     "text": [
      "7/7 [==============================] - 0s 12ms/step\n"
     ]
    }
   ],
   "source": [
    "pred_X = tokenizer.texts_to_sequences(data.predict)\n",
    "pred_X = pad_sequences(pred_X, maxlen=50)\n",
    "\n",
    "y_pred = (model.predict(pred_X, batch_size=512, verbose=1) > 0.5).astype(\"int32\")"
   ]
  },
  {
   "cell_type": "code",
   "execution_count": 69,
   "metadata": {},
   "outputs": [],
   "source": [
    "submission = pd.read_csv(os.path.join('..','0_Data','dataset','sample_submission.csv'))\n",
    "submission['target'] = y_pred\n",
    "submission.to_csv(\"submission7.csv\", index=False)"
   ]
  },
  {
   "cell_type": "markdown",
   "metadata": {},
   "source": [
    "# 2. Datos Preprocesados"
   ]
  },
  {
   "cell_type": "code",
   "execution_count": 71,
   "metadata": {},
   "outputs": [],
   "source": [
    "# Se cargan los datos \n",
    "\n",
    "data = get_data_sentiment_analysis_as_np_array()\n"
   ]
  },
  {
   "cell_type": "markdown",
   "metadata": {},
   "source": [
    "## 2.1 Comienzo con una cantidad de parametros grande\n"
   ]
  },
  {
   "cell_type": "code",
   "execution_count": 72,
   "metadata": {
    "scrolled": false
   },
   "outputs": [
    {
     "name": "stdout",
     "output_type": "stream",
     "text": [
      "Training Accuracy: 0.9891\n",
      "Testing Accuracy: 0.7754\n"
     ]
    }
   ],
   "source": [
    "model, tokenizer = run_model(data.x_train,data.y_train, data.x_val, data.y_val, data.x_test, data.y_test,\n",
    "                             embed_size = 300, max_features=30000, max_len = 50,\n",
    "                            batch_size = 512, nneuronsl1=16, activationl1='relu', epochs=20)"
   ]
  },
  {
   "cell_type": "markdown",
   "metadata": {},
   "source": [
    "## 2.2. Busco reducir la cantidad de parametros para reducir el overfitting"
   ]
  },
  {
   "cell_type": "markdown",
   "metadata": {},
   "source": [
    "### 2.2.1 pruebo reduciendo max_features"
   ]
  },
  {
   "cell_type": "code",
   "execution_count": null,
   "metadata": {},
   "outputs": [],
   "source": []
  },
  {
   "cell_type": "code",
   "execution_count": 74,
   "metadata": {
    "scrolled": false
   },
   "outputs": [
    {
     "name": "stdout",
     "output_type": "stream",
     "text": [
      "max_features = 5000\n",
      "Training Accuracy: 0.9877\n",
      "Testing Accuracy: 0.7735\n",
      "max_features = 10000\n",
      "Training Accuracy: 0.9889\n",
      "Testing Accuracy: 0.6953\n",
      "max_features = 15000\n",
      "Training Accuracy: 0.9895\n",
      "Testing Accuracy: 0.7787\n",
      "max_features = 20000\n",
      "Training Accuracy: 0.9889\n",
      "Testing Accuracy: 0.6973\n",
      "max_features = 25000\n",
      "Training Accuracy: 0.9889\n",
      "Testing Accuracy: 0.7019\n"
     ]
    }
   ],
   "source": [
    "test_max_features(5000, 30000, 5000)"
   ]
  },
  {
   "cell_type": "code",
   "execution_count": 75,
   "metadata": {},
   "outputs": [
    {
     "name": "stdout",
     "output_type": "stream",
     "text": [
      "max_features = 10000\n",
      "Training Accuracy: 0.9889\n",
      "Testing Accuracy: 0.7012\n",
      "max_features = 12000\n",
      "Training Accuracy: 0.9895\n",
      "Testing Accuracy: 0.7722\n",
      "max_features = 14000\n",
      "Training Accuracy: 0.9887\n",
      "Testing Accuracy: 0.7104\n",
      "max_features = 16000\n",
      "Training Accuracy: 0.9897\n",
      "Testing Accuracy: 0.7669\n",
      "max_features = 18000\n",
      "Training Accuracy: 0.9885\n",
      "Testing Accuracy: 0.7032\n",
      "max_features = 20000\n",
      "Training Accuracy: 0.9897\n",
      "Testing Accuracy: 0.7728\n"
     ]
    }
   ],
   "source": [
    "test_max_features(10000, 20001, 2000)"
   ]
  },
  {
   "cell_type": "code",
   "execution_count": 76,
   "metadata": {},
   "outputs": [
    {
     "name": "stdout",
     "output_type": "stream",
     "text": [
      "max_features = 11000\n",
      "Training Accuracy: 0.9895\n",
      "Testing Accuracy: 0.7728\n",
      "max_features = 12000\n",
      "Training Accuracy: 0.9889\n",
      "Testing Accuracy: 0.7032\n",
      "max_features = 13000\n",
      "Training Accuracy: 0.9895\n",
      "Testing Accuracy: 0.7669\n",
      "max_features = 14000\n",
      "Training Accuracy: 0.9895\n",
      "Testing Accuracy: 0.7702\n"
     ]
    }
   ],
   "source": [
    "test_max_features(11000, 14001, 1000)"
   ]
  },
  {
   "cell_type": "code",
   "execution_count": 79,
   "metadata": {},
   "outputs": [
    {
     "name": "stdout",
     "output_type": "stream",
     "text": [
      "max_features = 11000\n",
      "Training Accuracy: 0.9891\n",
      "Testing Accuracy: 0.7722\n",
      "max_features = 11500\n",
      "Training Accuracy: 0.9895\n",
      "Testing Accuracy: 0.7728\n",
      "max_features = 12000\n",
      "Training Accuracy: 0.9893\n",
      "Testing Accuracy: 0.7715\n",
      "max_features = 12500\n",
      "Training Accuracy: 0.9893\n",
      "Testing Accuracy: 0.7078\n",
      "max_features = 13000\n",
      "Training Accuracy: 0.9891\n",
      "Testing Accuracy: 0.7058\n"
     ]
    }
   ],
   "source": [
    "test_max_features(11000, 13001, 500)"
   ]
  },
  {
   "cell_type": "markdown",
   "metadata": {},
   "source": [
    "### 2.2.2 Pruebo reduciendo embed_size \n",
    "\n",
    "- Tamaño del vector de embeddings"
   ]
  },
  {
   "cell_type": "code",
   "execution_count": 83,
   "metadata": {},
   "outputs": [
    {
     "name": "stdout",
     "output_type": "stream",
     "text": [
      "Training Accuracy: 0.9883\n",
      "Testing Accuracy: 0.7150\n"
     ]
    }
   ],
   "source": [
    "model, tokenizer = run_model(data.x_train,data.y_train, data.x_val, data.y_val, data.x_test, data.y_test,\n",
    "                             embed_size = 300, max_features=12500, max_len = 50,\n",
    "                            batch_size = 512, nneuronsl1=16, activationl1='relu', epochs=20)"
   ]
  },
  {
   "cell_type": "code",
   "execution_count": 84,
   "metadata": {},
   "outputs": [
    {
     "name": "stdout",
     "output_type": "stream",
     "text": [
      "Training Accuracy: 0.9897\n",
      "Testing Accuracy: 0.7774\n"
     ]
    }
   ],
   "source": [
    "model, tokenizer = run_model(data.x_train,data.y_train, data.x_val, data.y_val, data.x_test, data.y_test,\n",
    "                             embed_size = 200, max_features=12500, max_len = 50,\n",
    "                            batch_size = 512, nneuronsl1=16, activationl1='relu', epochs=20)"
   ]
  },
  {
   "cell_type": "code",
   "execution_count": 85,
   "metadata": {},
   "outputs": [
    {
     "name": "stdout",
     "output_type": "stream",
     "text": [
      "Training Accuracy: 0.9897\n",
      "Testing Accuracy: 0.7708\n"
     ]
    }
   ],
   "source": [
    "model, tokenizer = run_model(data.x_train,data.y_train, data.x_val, data.y_val, data.x_test, data.y_test,\n",
    "                             embed_size = 100, max_features=12500, max_len = 50,\n",
    "                            batch_size = 512, nneuronsl1=16, activationl1='relu', epochs=20)"
   ]
  },
  {
   "cell_type": "code",
   "execution_count": 86,
   "metadata": {},
   "outputs": [
    {
     "name": "stdout",
     "output_type": "stream",
     "text": [
      "Training Accuracy: 0.9897\n",
      "Testing Accuracy: 0.7787\n"
     ]
    }
   ],
   "source": [
    "model, tokenizer = run_model(data.x_train,data.y_train, data.x_val, data.y_val, data.x_test, data.y_test,\n",
    "                             embed_size = 70, max_features=12500, max_len = 50,\n",
    "                            batch_size = 512, nneuronsl1=16, activationl1='relu', epochs=20)"
   ]
  }
 ],
 "metadata": {
  "kernelspec": {
   "display_name": "Python 3",
   "language": "python",
   "name": "python3"
  },
  "language_info": {
   "codemirror_mode": {
    "name": "ipython",
    "version": 3
   },
   "file_extension": ".py",
   "mimetype": "text/x-python",
   "name": "python",
   "nbconvert_exporter": "python",
   "pygments_lexer": "ipython3",
   "version": "3.7.6"
  }
 },
 "nbformat": 4,
 "nbformat_minor": 4
}
