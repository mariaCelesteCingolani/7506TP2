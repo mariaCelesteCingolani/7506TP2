{
 "cells": [
  {
   "cell_type": "code",
   "execution_count": 53,
   "metadata": {},
   "outputs": [],
   "source": [
    "#!pip install tensorflow\n",
    "#!pip install keras\n",
    "#!pip install gensim\n"
   ]
  },
  {
   "cell_type": "code",
   "execution_count": 118,
   "metadata": {},
   "outputs": [
    {
     "name": "stderr",
     "output_type": "stream",
     "text": [
      "[nltk_data] Downloading package punkt to /home/celeste/nltk_data...\n",
      "[nltk_data]   Package punkt is already up-to-date!\n",
      "[nltk_data] Downloading package stopwords to\n",
      "[nltk_data]     /home/celeste/nltk_data...\n",
      "[nltk_data]   Package stopwords is already up-to-date!\n",
      "[nltk_data] Downloading package wordnet to /home/celeste/nltk_data...\n",
      "[nltk_data]   Package wordnet is already up-to-date!\n"
     ]
    }
   ],
   "source": [
    "#librerías, no es necesario volverlas a importar\n",
    "\n",
    "import pandas as pd\n",
    "import os\n",
    "import gc\n",
    "from time import time, sleep\n",
    "import numpy as np\n",
    "import matplotlib.pyplot as plt\n",
    "plt.style.use('ggplot')\n",
    "import multiprocessing\n",
    "from collections import Counter\n",
    "\n",
    "from sklearn.metrics import classification_report\n",
    "from sklearn.feature_extraction.text import CountVectorizer\n",
    "\n",
    "\n",
    "from keras.preprocessing.text import Tokenizer\n",
    "from keras.preprocessing.text import text_to_word_sequence\n",
    "from keras.preprocessing.sequence import pad_sequences\n",
    "from keras.layers import Dense, Input, LSTM, Embedding, Dropout, Activation, Conv1D\n",
    "from keras.layers import Bidirectional, GlobalMaxPool1D\n",
    "from keras.models import Model\n",
    "from keras import initializers, regularizers, constraints, optimizers, layers, Sequential\n",
    "\n",
    "from gensim.models import Word2Vec\n",
    "\n",
    "%run ../0_Data/0_DataLoader.ipynb"
   ]
  },
  {
   "cell_type": "markdown",
   "metadata": {},
   "source": [
    "# 1. Datos"
   ]
  },
  {
   "cell_type": "code",
   "execution_count": 7,
   "metadata": {
    "scrolled": true
   },
   "outputs": [],
   "source": [
    "x_train_original, train_y = get_train_x_y_original()\n",
    "\n",
    "x_test_original = get_test_x_original()\n",
    "\n",
    "x_train_preprocesado = preprocesar_data (x_train_original, clean_text_sentiment_analysis)\n",
    "\n",
    "x_test_preprocesado = preprocesar_data (x_test_original, clean_text_sentiment_analysis)"
   ]
  },
  {
   "cell_type": "code",
   "execution_count": 4,
   "metadata": {},
   "outputs": [
    {
     "data": {
      "text/plain": [
       "id\n",
       "1    our deed are the reason of this earthquak may ...\n",
       "4                 forest fire near la rong sask canada\n",
       "5    all resid ask to shelter in place are be notif...\n",
       "6    13000 peopl receiv wildfir evacu order in cali...\n",
       "7    just got sent this photo from rubi alaska as s...\n",
       "Name: text, dtype: object"
      ]
     },
     "execution_count": 4,
     "metadata": {},
     "output_type": "execute_result"
    }
   ],
   "source": [
    "x_train_preprocesado.head()"
   ]
  },
  {
   "cell_type": "code",
   "execution_count": 8,
   "metadata": {},
   "outputs": [
    {
     "data": {
      "text/plain": [
       "id\n",
       "0                       just happen a terribl car crash\n",
       "2     heard about earthquak is differ citi stay safe...\n",
       "3     there is a forest fire at spot pond gees are f...\n",
       "9                        apocalyps light spokan wildfir\n",
       "11         typhoon soudelor kill 28 in china and taiwan\n",
       "Name: text, dtype: object"
      ]
     },
     "execution_count": 8,
     "metadata": {},
     "output_type": "execute_result"
    }
   ],
   "source": [
    "x_test_preprocesado.head()"
   ]
  },
  {
   "cell_type": "code",
   "execution_count": 78,
   "metadata": {},
   "outputs": [],
   "source": []
  },
  {
   "cell_type": "code",
   "execution_count": 73,
   "metadata": {},
   "outputs": [
    {
     "data": {
      "text/plain": [
       "id\n",
       "1    our deed are the reason of this may allah forg...\n",
       "4                 forest fire near la rong sask canada\n",
       "5    all resid ask to shelter in place are be notif...\n",
       "6         13000 peopl receiv evacu order in california\n",
       "7    just got sent this photo from rubi as smoke fr...\n",
       "Name: texto_preprocesado, dtype: object"
      ]
     },
     "execution_count": 73,
     "metadata": {},
     "output_type": "execute_result"
    }
   ],
   "source": []
  },
  {
   "cell_type": "markdown",
   "metadata": {},
   "source": [
    "# 2. Embeddings sin preentrenar"
   ]
  },
  {
   "cell_type": "code",
   "execution_count": null,
   "metadata": {},
   "outputs": [],
   "source": []
  },
  {
   "cell_type": "code",
   "execution_count": null,
   "metadata": {},
   "outputs": [],
   "source": []
  },
  {
   "cell_type": "code",
   "execution_count": 122,
   "metadata": {},
   "outputs": [],
   "source": [
    "def plot_history(history):\n",
    "    acc = history.history['accuracy']\n",
    "    loss = history.history['loss']\n",
    "    x = range(1, len(acc) + 1)\n",
    "\n",
    "    plt.figure(figsize=(12, 5))\n",
    "    plt.plot(x, acc, 'r', label='Training acc')\n",
    "    plt.plot(x, loss, 'b', label='Training loss')\n",
    "    plt.title('Training accuracy vs loss')\n",
    "    plt.legend()"
   ]
  },
  {
   "cell_type": "code",
   "execution_count": 5,
   "metadata": {},
   "outputs": [],
   "source": [
    "## some config values \n",
    "embed_size = 300 # how big is each word vector\n",
    "max_features = 50000 # how many unique words to use (i.e num rows in embedding vector)\n",
    "maxlen = 200 # max number of words in a question to use\n"
   ]
  },
  {
   "cell_type": "code",
   "execution_count": 26,
   "metadata": {},
   "outputs": [],
   "source": [
    "def liberar_memoria (var):\n",
    "    del var\n",
    "    gc.collect()\n",
    "    sleep(10)"
   ]
  },
  {
   "cell_type": "code",
   "execution_count": 41,
   "metadata": {
    "scrolled": true
   },
   "outputs": [
    {
     "name": "stdout",
     "output_type": "stream",
     "text": [
      "Model: \"sequential_4\"\n",
      "_________________________________________________________________\n",
      "Layer (type)                 Output Shape              Param #   \n",
      "=================================================================\n",
      "embedding_4 (Embedding)      (None, 200, 300)          15000000  \n",
      "_________________________________________________________________\n",
      "flatten_4 (Flatten)          (None, 60000)             0         \n",
      "_________________________________________________________________\n",
      "dense_8 (Dense)              (None, 10)                600010    \n",
      "_________________________________________________________________\n",
      "dense_9 (Dense)              (None, 1)                 11        \n",
      "=================================================================\n",
      "Total params: 15,600,021\n",
      "Trainable params: 15,600,021\n",
      "Non-trainable params: 0\n",
      "_________________________________________________________________\n",
      "Epoch 1/10\n",
      "15/15 [==============================] - ETA: 0s - loss: 0.6909 - accuracy: 0.59 - ETA: 1s - loss: 0.7162 - accuracy: 0.58 - ETA: 2s - loss: 0.7084 - accuracy: 0.54 - ETA: 1s - loss: 0.7030 - accuracy: 0.55 - ETA: 1s - loss: 0.6986 - accuracy: 0.55 - ETA: 1s - loss: 0.7000 - accuracy: 0.55 - ETA: 1s - loss: 0.6959 - accuracy: 0.56 - ETA: 1s - loss: 0.6951 - accuracy: 0.55 - ETA: 1s - loss: 0.6920 - accuracy: 0.56 - ETA: 1s - loss: 0.6878 - accuracy: 0.56 - ETA: 0s - loss: 0.6857 - accuracy: 0.56 - ETA: 0s - loss: 0.6855 - accuracy: 0.56 - ETA: 0s - loss: 0.6817 - accuracy: 0.57 - ETA: 0s - loss: 0.6792 - accuracy: 0.57 - ETA: 0s - loss: 0.6774 - accuracy: 0.58 - 3s 203ms/step - loss: 0.6774 - accuracy: 0.5820\n",
      "Epoch 2/10\n",
      "15/15 [==============================] - ETA: 0s - loss: 0.6223 - accuracy: 0.71 - ETA: 1s - loss: 0.6199 - accuracy: 0.69 - ETA: 1s - loss: 0.6199 - accuracy: 0.69 - ETA: 1s - loss: 0.6194 - accuracy: 0.68 - ETA: 1s - loss: 0.6176 - accuracy: 0.68 - ETA: 1s - loss: 0.6140 - accuracy: 0.68 - ETA: 1s - loss: 0.6115 - accuracy: 0.68 - ETA: 1s - loss: 0.6056 - accuracy: 0.68 - ETA: 1s - loss: 0.6011 - accuracy: 0.69 - ETA: 0s - loss: 0.5989 - accuracy: 0.69 - ETA: 0s - loss: 0.5941 - accuracy: 0.69 - ETA: 0s - loss: 0.5901 - accuracy: 0.70 - ETA: 0s - loss: 0.5881 - accuracy: 0.70 - ETA: 0s - loss: 0.5846 - accuracy: 0.70 - ETA: 0s - loss: 0.5820 - accuracy: 0.70 - 3s 201ms/step - loss: 0.5820 - accuracy: 0.7068\n",
      "Epoch 3/10\n",
      "15/15 [==============================] - ETA: 0s - loss: 0.5301 - accuracy: 0.74 - ETA: 1s - loss: 0.5177 - accuracy: 0.76 - ETA: 1s - loss: 0.5096 - accuracy: 0.76 - ETA: 1s - loss: 0.5037 - accuracy: 0.76 - ETA: 1s - loss: 0.4993 - accuracy: 0.77 - ETA: 1s - loss: 0.4924 - accuracy: 0.78 - ETA: 1s - loss: 0.4900 - accuracy: 0.78 - ETA: 1s - loss: 0.4871 - accuracy: 0.78 - ETA: 1s - loss: 0.4800 - accuracy: 0.79 - ETA: 0s - loss: 0.4752 - accuracy: 0.80 - ETA: 0s - loss: 0.4697 - accuracy: 0.80 - ETA: 0s - loss: 0.4625 - accuracy: 0.80 - ETA: 0s - loss: 0.4571 - accuracy: 0.81 - ETA: 0s - loss: 0.4499 - accuracy: 0.81 - ETA: 0s - loss: 0.4466 - accuracy: 0.81 - 3s 204ms/step - loss: 0.4466 - accuracy: 0.8198\n",
      "Epoch 4/10\n",
      "15/15 [==============================] - ETA: 0s - loss: 0.3697 - accuracy: 0.87 - ETA: 1s - loss: 0.3555 - accuracy: 0.88 - ETA: 1s - loss: 0.3485 - accuracy: 0.89 - ETA: 1s - loss: 0.3391 - accuracy: 0.89 - ETA: 1s - loss: 0.3326 - accuracy: 0.89 - ETA: 1s - loss: 0.3302 - accuracy: 0.89 - ETA: 1s - loss: 0.3264 - accuracy: 0.89 - ETA: 1s - loss: 0.3210 - accuracy: 0.89 - ETA: 1s - loss: 0.3188 - accuracy: 0.89 - ETA: 1s - loss: 0.3196 - accuracy: 0.89 - ETA: 0s - loss: 0.3178 - accuracy: 0.89 - ETA: 0s - loss: 0.3148 - accuracy: 0.89 - ETA: 0s - loss: 0.3126 - accuracy: 0.89 - ETA: 0s - loss: 0.3090 - accuracy: 0.89 - ETA: 0s - loss: 0.3066 - accuracy: 0.90 - 3s 208ms/step - loss: 0.3066 - accuracy: 0.9011\n",
      "Epoch 5/10\n",
      "15/15 [==============================] - ETA: 0s - loss: 0.2380 - accuracy: 0.91 - ETA: 1s - loss: 0.2329 - accuracy: 0.92 - ETA: 1s - loss: 0.2230 - accuracy: 0.93 - ETA: 1s - loss: 0.2208 - accuracy: 0.93 - ETA: 1s - loss: 0.2231 - accuracy: 0.92 - ETA: 1s - loss: 0.2184 - accuracy: 0.93 - ETA: 1s - loss: 0.2155 - accuracy: 0.93 - ETA: 1s - loss: 0.2117 - accuracy: 0.93 - ETA: 1s - loss: 0.2076 - accuracy: 0.93 - ETA: 1s - loss: 0.2040 - accuracy: 0.93 - ETA: 0s - loss: 0.2026 - accuracy: 0.93 - ETA: 0s - loss: 0.2024 - accuracy: 0.93 - ETA: 0s - loss: 0.2006 - accuracy: 0.94 - ETA: 0s - loss: 0.1986 - accuracy: 0.94 - ETA: 0s - loss: 0.1961 - accuracy: 0.94 - 3s 219ms/step - loss: 0.1961 - accuracy: 0.9423\n",
      "Epoch 6/10\n",
      "15/15 [==============================] - ETA: 0s - loss: 0.1338 - accuracy: 0.97 - ETA: 1s - loss: 0.1322 - accuracy: 0.97 - ETA: 1s - loss: 0.1346 - accuracy: 0.97 - ETA: 1s - loss: 0.1325 - accuracy: 0.97 - ETA: 1s - loss: 0.1272 - accuracy: 0.97 - ETA: 1s - loss: 0.1299 - accuracy: 0.97 - ETA: 1s - loss: 0.1285 - accuracy: 0.97 - ETA: 1s - loss: 0.1265 - accuracy: 0.97 - ETA: 1s - loss: 0.1268 - accuracy: 0.97 - ETA: 1s - loss: 0.1264 - accuracy: 0.97 - ETA: 0s - loss: 0.1259 - accuracy: 0.97 - ETA: 0s - loss: 0.1247 - accuracy: 0.97 - ETA: 0s - loss: 0.1236 - accuracy: 0.97 - ETA: 0s - loss: 0.1232 - accuracy: 0.97 - ETA: 0s - loss: 0.1217 - accuracy: 0.97 - 3s 232ms/step - loss: 0.1217 - accuracy: 0.9714\n",
      "Epoch 7/10\n",
      "15/15 [==============================] - ETA: 0s - loss: 0.0849 - accuracy: 0.98 - ETA: 1s - loss: 0.0806 - accuracy: 0.98 - ETA: 1s - loss: 0.0819 - accuracy: 0.98 - ETA: 1s - loss: 0.0816 - accuracy: 0.98 - ETA: 1s - loss: 0.0836 - accuracy: 0.98 - ETA: 1s - loss: 0.0823 - accuracy: 0.98 - ETA: 1s - loss: 0.0829 - accuracy: 0.98 - ETA: 1s - loss: 0.0825 - accuracy: 0.98 - ETA: 1s - loss: 0.0811 - accuracy: 0.98 - ETA: 0s - loss: 0.0808 - accuracy: 0.98 - ETA: 0s - loss: 0.0803 - accuracy: 0.98 - ETA: 0s - loss: 0.0790 - accuracy: 0.98 - ETA: 0s - loss: 0.0782 - accuracy: 0.98 - ETA: 0s - loss: 0.0779 - accuracy: 0.98 - ETA: 0s - loss: 0.0777 - accuracy: 0.98 - 3s 201ms/step - loss: 0.0777 - accuracy: 0.9831\n",
      "Epoch 8/10\n",
      "15/15 [==============================] - ETA: 0s - loss: 0.0523 - accuracy: 0.99 - ETA: 1s - loss: 0.0529 - accuracy: 0.99 - ETA: 1s - loss: 0.0524 - accuracy: 0.99 - ETA: 1s - loss: 0.0536 - accuracy: 0.99 - ETA: 1s - loss: 0.0533 - accuracy: 0.99 - ETA: 1s - loss: 0.0538 - accuracy: 0.99 - ETA: 1s - loss: 0.0543 - accuracy: 0.99 - ETA: 1s - loss: 0.0540 - accuracy: 0.98 - ETA: 1s - loss: 0.0540 - accuracy: 0.99 - ETA: 1s - loss: 0.0544 - accuracy: 0.98 - ETA: 0s - loss: 0.0538 - accuracy: 0.98 - ETA: 0s - loss: 0.0528 - accuracy: 0.98 - ETA: 0s - loss: 0.0533 - accuracy: 0.98 - ETA: 0s - loss: 0.0531 - accuracy: 0.98 - ETA: 0s - loss: 0.0531 - accuracy: 0.98 - 3s 221ms/step - loss: 0.0531 - accuracy: 0.9892\n",
      "Epoch 9/10\n",
      "15/15 [==============================] - ETA: 0s - loss: 0.0432 - accuracy: 0.99 - ETA: 1s - loss: 0.0403 - accuracy: 0.99 - ETA: 2s - loss: 0.0410 - accuracy: 0.99 - ETA: 2s - loss: 0.0384 - accuracy: 0.99 - ETA: 2s - loss: 0.0369 - accuracy: 0.99 - ETA: 2s - loss: 0.0385 - accuracy: 0.99 - ETA: 2s - loss: 0.0384 - accuracy: 0.99 - ETA: 1s - loss: 0.0394 - accuracy: 0.99 - ETA: 1s - loss: 0.0385 - accuracy: 0.99 - ETA: 1s - loss: 0.0385 - accuracy: 0.99 - ETA: 0s - loss: 0.0384 - accuracy: 0.99 - ETA: 0s - loss: 0.0378 - accuracy: 0.99 - ETA: 0s - loss: 0.0393 - accuracy: 0.99 - ETA: 0s - loss: 0.0389 - accuracy: 0.99 - ETA: 0s - loss: 0.0392 - accuracy: 0.99 - 4s 248ms/step - loss: 0.0392 - accuracy: 0.9926\n",
      "Epoch 10/10\n",
      "15/15 [==============================] - ETA: 0s - loss: 0.0345 - accuracy: 0.99 - ETA: 1s - loss: 0.0364 - accuracy: 0.99 - ETA: 2s - loss: 0.0342 - accuracy: 0.99 - ETA: 2s - loss: 0.0318 - accuracy: 0.99 - ETA: 2s - loss: 0.0314 - accuracy: 0.99 - ETA: 2s - loss: 0.0314 - accuracy: 0.99 - ETA: 2s - loss: 0.0309 - accuracy: 0.99 - ETA: 1s - loss: 0.0298 - accuracy: 0.99 - ETA: 1s - loss: 0.0303 - accuracy: 0.99 - ETA: 1s - loss: 0.0318 - accuracy: 0.99 - ETA: 1s - loss: 0.0308 - accuracy: 0.99 - ETA: 0s - loss: 0.0310 - accuracy: 0.99 - ETA: 0s - loss: 0.0308 - accuracy: 0.99 - ETA: 0s - loss: 0.0312 - accuracy: 0.99 - ETA: 0s - loss: 0.0309 - accuracy: 0.99 - 4s 244ms/step - loss: 0.0309 - accuracy: 0.9937\n"
     ]
    },
    {
     "name": "stdout",
     "output_type": "stream",
     "text": [
      "Training Accuracy: 0.9953\n"
     ]
    },
    {
     "data": {
      "image/png": "[encoded data removed]",
      "text/plain": [
       "<Figure size 864x360 with 1 Axes>"
      ]
     },
     "metadata": {},
     "output_type": "display_data"
    }
   ],
   "source": [
    "## Tokenize the sentences\n",
    "tokenizer = Tokenizer(num_words=max_features)\n",
    "tokenizer.fit_on_texts(list(x_train_original))\n",
    "train_X = tokenizer.texts_to_sequences(x_train_original)\n",
    "\n",
    "## Pad the sentences \n",
    "train_X = pad_sequences(train_X, maxlen=maxlen)\n",
    "\n",
    "model = Sequential()\n",
    "model.add(layers.Embedding(input_dim=max_features, \n",
    "                           output_dim=embed_size, \n",
    "                           input_length=maxlen))\n",
    "model.add(layers.Flatten())\n",
    "model.add(layers.Dense(10, activation='relu'))\n",
    "model.add(layers.Dense(1, activation='sigmoid'))\n",
    "model.compile(optimizer='adam',\n",
    "              loss='binary_crossentropy',\n",
    "              metrics=['accuracy'])\n",
    "model.summary()\n",
    "\n",
    "history = model.fit(train_X, train_y,\n",
    "                    epochs=10,\n",
    "                    batch_size=512)\n",
    "\n",
    "\n",
    "loss, accuracy = model.evaluate(train_X, train_y, verbose=False)\n",
    "print(\"Training Accuracy: {:.4f}\".format(accuracy))\n",
    "plot_history(history)"
   ]
  },
  {
   "cell_type": "code",
   "execution_count": null,
   "metadata": {
    "scrolled": true
   },
   "outputs": [],
   "source": []
  },
  {
   "cell_type": "code",
   "execution_count": 97,
   "metadata": {},
   "outputs": [],
   "source": [
    "liberar_memoria(model)"
   ]
  },
  {
   "cell_type": "code",
   "execution_count": 42,
   "metadata": {},
   "outputs": [
    {
     "name": "stdout",
     "output_type": "stream",
     "text": [
      "4/4 [==============================] - ETA:  - ETA:  - ETA:  - 0s 37ms/step\n"
     ]
    }
   ],
   "source": [
    "test_X = tokenizer.texts_to_sequences(x_test_original)\n",
    "\n",
    "## Pad the sentences \n",
    "test_X = pad_sequences(test_X, maxlen=maxlen)\n",
    "\n",
    "\n",
    "#y_test = model.predict(test_X, batch_size=1024, verbose=1)\n",
    "#y_test = model.predict_classes(test_X, batch_size=1024, verbose=1)\n",
    "\n",
    "y_test = (model.predict(test_X, batch_size=1024, verbose=1) > 0.5).astype(\"int32\")"
   ]
  },
  {
   "cell_type": "code",
   "execution_count": 43,
   "metadata": {},
   "outputs": [
    {
     "name": "stdout",
     "output_type": "stream",
     "text": [
      "8/8 [==============================] - ETA:  - ETA:  - ETA:  - ETA:  - ETA:  - ETA:  - ETA:  - 0s 52ms/step\n"
     ]
    }
   ],
   "source": [
    "pred_y = model.predict_classes(train_X, batch_size=1024, verbose=1)\n",
    "print(\"Report: \\n{}\".format(classification_report(train_y, pred_y)))"
   ]
  },
  {
   "cell_type": "code",
   "execution_count": 44,
   "metadata": {},
   "outputs": [
    {
     "name": "stdout",
     "output_type": "stream",
     "text": [
      "Report: \n",
      "              precision    recall  f1-score   support\n",
      "\n",
      "           0       1.00      1.00      1.00      4342\n",
      "           1       0.99      1.00      0.99      3271\n",
      "\n",
      "    accuracy                           1.00      7613\n",
      "   macro avg       1.00      1.00      1.00      7613\n",
      "weighted avg       1.00      1.00      1.00      7613\n",
      "\n"
     ]
    }
   ],
   "source": []
  },
  {
   "cell_type": "code",
   "execution_count": 45,
   "metadata": {},
   "outputs": [
    {
     "data": {
      "text/plain": [
       "array([[1],\n",
       "       [1],\n",
       "       [1],\n",
       "       ...,\n",
       "       [1],\n",
       "       [1],\n",
       "       [1]], dtype=int32)"
      ]
     },
     "execution_count": 45,
     "metadata": {},
     "output_type": "execute_result"
    }
   ],
   "source": [
    "pred_y"
   ]
  },
  {
   "cell_type": "code",
   "execution_count": 46,
   "metadata": {},
   "outputs": [],
   "source": [
    "submission = pd.read_csv(os.path.join('..','0_Data','dataset','sample_submission.csv'))\n",
    "submission['target'] = y_test\n",
    "submission.to_csv(\"submission2.csv\", index=False)"
   ]
  },
  {
   "cell_type": "code",
   "execution_count": 47,
   "metadata": {},
   "outputs": [
    {
     "data": {
      "text/plain": [
       "3263"
      ]
     },
     "execution_count": 47,
     "metadata": {},
     "output_type": "execute_result"
    }
   ],
   "source": [
    "len(y_test)"
   ]
  },
  {
   "cell_type": "code",
   "execution_count": 14,
   "metadata": {},
   "outputs": [
    {
     "data": {
      "text/html": [
       "<div>\n",
       "<style scoped>\n",
       "    .dataframe tbody tr th:only-of-type {\n",
       "        vertical-align: middle;\n",
       "    }\n",
       "\n",
       "    .dataframe tbody tr th {\n",
       "        vertical-align: top;\n",
       "    }\n",
       "\n",
       "    .dataframe thead th {\n",
       "        text-align: right;\n",
       "    }\n",
       "</style>\n",
       "<table border=\"1\" class=\"dataframe\">\n",
       "  <thead>\n",
       "    <tr style=\"text-align: right;\">\n",
       "      <th></th>\n",
       "      <th>id</th>\n",
       "      <th>target</th>\n",
       "    </tr>\n",
       "  </thead>\n",
       "  <tbody>\n",
       "    <tr>\n",
       "      <th>0</th>\n",
       "      <td>0</td>\n",
       "      <td>0</td>\n",
       "    </tr>\n",
       "    <tr>\n",
       "      <th>1</th>\n",
       "      <td>2</td>\n",
       "      <td>0</td>\n",
       "    </tr>\n",
       "    <tr>\n",
       "      <th>2</th>\n",
       "      <td>3</td>\n",
       "      <td>0</td>\n",
       "    </tr>\n",
       "    <tr>\n",
       "      <th>3</th>\n",
       "      <td>9</td>\n",
       "      <td>0</td>\n",
       "    </tr>\n",
       "    <tr>\n",
       "      <th>4</th>\n",
       "      <td>11</td>\n",
       "      <td>0</td>\n",
       "    </tr>\n",
       "    <tr>\n",
       "      <th>...</th>\n",
       "      <td>...</td>\n",
       "      <td>...</td>\n",
       "    </tr>\n",
       "    <tr>\n",
       "      <th>3258</th>\n",
       "      <td>10861</td>\n",
       "      <td>0</td>\n",
       "    </tr>\n",
       "    <tr>\n",
       "      <th>3259</th>\n",
       "      <td>10865</td>\n",
       "      <td>0</td>\n",
       "    </tr>\n",
       "    <tr>\n",
       "      <th>3260</th>\n",
       "      <td>10868</td>\n",
       "      <td>0</td>\n",
       "    </tr>\n",
       "    <tr>\n",
       "      <th>3261</th>\n",
       "      <td>10874</td>\n",
       "      <td>1</td>\n",
       "    </tr>\n",
       "    <tr>\n",
       "      <th>3262</th>\n",
       "      <td>10875</td>\n",
       "      <td>0</td>\n",
       "    </tr>\n",
       "  </tbody>\n",
       "</table>\n",
       "<p>3263 rows × 2 columns</p>\n",
       "</div>"
      ],
      "text/plain": [
       "         id  target\n",
       "0         0       0\n",
       "1         2       0\n",
       "2         3       0\n",
       "3         9       0\n",
       "4        11       0\n",
       "...     ...     ...\n",
       "3258  10861       0\n",
       "3259  10865       0\n",
       "3260  10868       0\n",
       "3261  10874       1\n",
       "3262  10875       0\n",
       "\n",
       "[3263 rows x 2 columns]"
      ]
     },
     "execution_count": 14,
     "metadata": {},
     "output_type": "execute_result"
    }
   ],
   "source": [
    "submission"
   ]
  },
  {
   "cell_type": "code",
   "execution_count": 49,
   "metadata": {},
   "outputs": [],
   "source": []
  },
  {
   "cell_type": "markdown",
   "metadata": {},
   "source": [
    "# 3. Embeddings preentrenados"
   ]
  },
  {
   "cell_type": "code",
   "execution_count": 124,
   "metadata": {},
   "outputs": [],
   "source": [
    "cores = multiprocessing.cpu_count() # Count the number of cores in a computer"
   ]
  },
  {
   "cell_type": "code",
   "execution_count": 123,
   "metadata": {},
   "outputs": [],
   "source": [
    "liberar_memoria(w2v_model)"
   ]
  },
  {
   "cell_type": "code",
   "execution_count": null,
   "metadata": {},
   "outputs": [],
   "source": []
  },
  {
   "cell_type": "code",
   "execution_count": 127,
   "metadata": {},
   "outputs": [
    {
     "name": "stdout",
     "output_type": "stream",
     "text": [
      "Time to build vocab: 0.0 mins\n",
      "Time to train the model: 0.05 mins\n",
      "Number of word vectors: 1210\n",
      "Model: \"sequential_2\"\n",
      "_________________________________________________________________\n",
      "Layer (type)                 Output Shape              Param #   \n",
      "=================================================================\n",
      "embedding_2 (Embedding)      (None, 200, 300)          15000000  \n",
      "_________________________________________________________________\n",
      "flatten_2 (Flatten)          (None, 60000)             0         \n",
      "_________________________________________________________________\n",
      "dense_4 (Dense)              (None, 10)                600010    \n",
      "_________________________________________________________________\n",
      "dense_5 (Dense)              (None, 1)                 11        \n",
      "=================================================================\n",
      "Total params: 15,600,021\n",
      "Trainable params: 15,600,021\n",
      "Non-trainable params: 0\n",
      "_________________________________________________________________\n",
      "Shape of data tensor: (7613, 200)\n",
      "Epoch 1/10\n",
      "15/15 [==============================] - 3s 200ms/step - loss: 0.6898 - accuracy: 0.5698\n",
      "Epoch 2/10\n",
      "15/15 [==============================] - 3s 192ms/step - loss: 0.5659 - accuracy: 0.7157\n",
      "Epoch 3/10\n",
      "15/15 [==============================] - 3s 192ms/step - loss: 0.4224 - accuracy: 0.8394\n",
      "Epoch 4/10\n",
      "15/15 [==============================] - 3s 197ms/step - loss: 0.2754 - accuracy: 0.9119\n",
      "Epoch 5/10\n",
      "15/15 [==============================] - 3s 200ms/step - loss: 0.1673 - accuracy: 0.9535\n",
      "Epoch 6/10\n",
      "15/15 [==============================] - 3s 199ms/step - loss: 0.0990 - accuracy: 0.9762\n",
      "Epoch 7/10\n",
      "15/15 [==============================] - 3s 194ms/step - loss: 0.0618 - accuracy: 0.9865\n",
      "Epoch 8/10\n",
      "15/15 [==============================] - 3s 201ms/step - loss: 0.0429 - accuracy: 0.9912\n",
      "Epoch 9/10\n",
      "15/15 [==============================] - 3s 195ms/step - loss: 0.0326 - accuracy: 0.9925\n",
      "Epoch 10/10\n",
      "15/15 [==============================] - 3s 193ms/step - loss: 0.0256 - accuracy: 0.9924\n",
      "Training Accuracy: 0.9949\n"
     ]
    },
    {
     "data": {
      "image/png": "[encoded data removed]",
      "text/plain": [
       "<Figure size 864x360 with 1 Axes>"
      ]
     },
     "metadata": {},
     "output_type": "display_data"
    }
   ],
   "source": [
    "## some config values \n",
    "embed_size = 300 # how big is each word vector\n",
    "max_features = 50000 # how many unique words to use (i.e num rows in embedding vector)\n",
    "maxlen = 200 # max number of words in a tweet to use\n",
    "\n",
    "## obtengo el vocabulario\n",
    "tokenizer = Tokenizer(num_words=max_features)\n",
    "tokenizer.fit_on_texts(list(x_train_original)+ list(x_test_original))\n",
    "\n",
    "## indice del vocabulario\n",
    "word_index = tokenizer.word_index\n",
    "\n",
    "## para proecesarlo necesito una lista de palabras por  tweet\n",
    "tweets_list_train = [text_to_word_sequence(sentence) for sentence in x_train_original]\n",
    "tweets_list_test = [text_to_word_sequence(sentence) for sentence in x_test_original]\n",
    "tweets_all = tweets_list_train + tweets_list_test\n",
    "\n",
    "## creo el modelo de word2vec\n",
    "w2v_model = Word2Vec(min_count=20,\n",
    "                     window=2,\n",
    "                     size=embed_size,\n",
    "                     sample=6e-5, \n",
    "                     alpha=0.03, \n",
    "                     min_alpha=0.0007, \n",
    "                     negative=20,\n",
    "                     workers=cores-1)\n",
    "\n",
    "## se genera el vocabulario\n",
    "\n",
    "t = time()\n",
    "\n",
    "w2v_model.build_vocab(tweets_all, progress_per=10000)\n",
    "\n",
    "print('Time to build vocab: {} mins'.format(round((time() - t) / 60, 2)))\n",
    "\n",
    "# se entrena el modelo word2vec\n",
    "\n",
    "t = time()\n",
    "\n",
    "w2v_model.train(tweets_all, total_examples=w2v_model.corpus_count, epochs=30, report_delay=1)\n",
    "\n",
    "print('Time to train the model: {} mins'.format(round((time() - t) / 60, 2)))\n",
    "\n",
    "word_vectors = w2v_model.wv\n",
    "\n",
    "print(\"Number of word vectors: {}\".format(len(word_vectors.vocab)))\n",
    "\n",
    "MAX_NB_WORDS = len(word_vectors.vocab)\n",
    "\n",
    "wv_matrix = (np.random.rand(MAX_NB_WORDS, embed_size) - 0.5) / 5.0\n",
    "for word, i in word_index.items():\n",
    "    if i >= MAX_NB_WORDS:\n",
    "        continue\n",
    "    try:\n",
    "        embedding_vector = word_vectors[word]\n",
    "        # words not found in embedding index will be all-zeros.\n",
    "        wv_matrix[i] = embedding_vector\n",
    "    except:\n",
    "        pass    \n",
    "    \n",
    "\n",
    "model2 = Sequential()\n",
    "model2.add(layers.Embedding(input_dim=max_features, \n",
    "                           output_dim=embed_size, \n",
    "                           input_length=maxlen))\n",
    "model2.add(layers.Flatten())\n",
    "model2.add(layers.Dense(10, activation='relu'))\n",
    "model2.add(layers.Dense(1, activation='sigmoid'))\n",
    "model2.compile(optimizer='adam',\n",
    "              loss='binary_crossentropy',\n",
    "              metrics=['accuracy'])\n",
    "model2.summary()\n",
    "\n",
    "train_X = tokenizer.texts_to_sequences(x_train_original)\n",
    "\n",
    "# pad\n",
    "train_X = pad_sequences(train_X, maxlen=maxlen, \n",
    "                     padding=\"pre\", truncating=\"post\")\n",
    "\n",
    "print('Shape of data tensor:', train_X.shape)\n",
    "\n",
    "history2 = model2.fit(train_X, train_y,\n",
    "                    epochs=10,\n",
    "                    batch_size=512)\n",
    "\n",
    "\n",
    "loss, accuracy = model2.evaluate(train_X, train_y, verbose=False)\n",
    "print(\"Training Accuracy: {:.4f}\".format(accuracy))\n",
    "plot_history(history2)"
   ]
  },
  {
   "cell_type": "code",
   "execution_count": 129,
   "metadata": {},
   "outputs": [
    {
     "name": "stdout",
     "output_type": "stream",
     "text": [
      "WARNING:tensorflow:From <ipython-input-129-79a6af12aa53>:1: Sequential.predict_classes (from tensorflow.python.keras.engine.sequential) is deprecated and will be removed after 2021-01-01.\n",
      "Instructions for updating:\n",
      "Please use instead:* `np.argmax(model.predict(x), axis=-1)`,   if your model does multi-class classification   (e.g. if it uses a `softmax` last-layer activation).* `(model.predict(x) > 0.5).astype(\"int32\")`,   if your model does binary classification   (e.g. if it uses a `sigmoid` last-layer activation).\n",
      "8/8 [==============================] - 0s 50ms/step\n",
      "Report: \n",
      "              precision    recall  f1-score   support\n",
      "\n",
      "           0       0.99      1.00      1.00      4342\n",
      "           1       1.00      0.99      0.99      3271\n",
      "\n",
      "    accuracy                           0.99      7613\n",
      "   macro avg       0.99      0.99      0.99      7613\n",
      "weighted avg       0.99      0.99      0.99      7613\n",
      "\n"
     ]
    }
   ],
   "source": [
    "pred_y = model2.predict_classes(train_X, batch_size=1024, verbose=1)\n",
    "print(\"Report: \\n{}\".format(classification_report(train_y, pred_y)))"
   ]
  },
  {
   "cell_type": "code",
   "execution_count": 131,
   "metadata": {},
   "outputs": [
    {
     "name": "stdout",
     "output_type": "stream",
     "text": [
      "4/4 [==============================] - 0s 35ms/step\n"
     ]
    }
   ],
   "source": [
    "test_X = tokenizer.texts_to_sequences(x_test_original)\n",
    "\n",
    "## Pad the sentences \n",
    "test_X = pad_sequences(test_X, maxlen=maxlen)\n",
    "\n",
    "y_test = (model2.predict(test_X, batch_size=1024, verbose=1) > 0.5).astype(\"int32\")"
   ]
  },
  {
   "cell_type": "code",
   "execution_count": 132,
   "metadata": {},
   "outputs": [],
   "source": [
    "submission = pd.read_csv(os.path.join('..','0_Data','dataset','sample_submission.csv'))\n",
    "submission['target'] = y_test\n",
    "submission.to_csv(\"submission3.csv\", index=False)"
   ]
  },
  {
   "cell_type": "code",
   "execution_count": null,
   "metadata": {},
   "outputs": [],
   "source": []
  },
  {
   "cell_type": "code",
   "execution_count": null,
   "metadata": {},
   "outputs": [],
   "source": []
  },
  {
   "cell_type": "code",
   "execution_count": null,
   "metadata": {},
   "outputs": [],
   "source": []
  }
 ],
 "metadata": {
  "kernelspec": {
   "display_name": "Python 3",
   "language": "python",
   "name": "python3"
  },
  "language_info": {
   "codemirror_mode": {
    "name": "ipython",
    "version": 3
   },
   "file_extension": ".py",
   "mimetype": "text/x-python",
   "name": "python",
   "nbconvert_exporter": "python",
   "pygments_lexer": "ipython3",
   "version": "3.7.6"
  }
 },
 "nbformat": 4,
 "nbformat_minor": 4
}
