{
 "cells": [
  {
   "cell_type": "code",
   "execution_count": 57,
   "metadata": {
    "scrolled": true
   },
   "outputs": [],
   "source": [
    "#librerías, no es necesario volverlas a importar\n",
    "\n",
    "import pandas as pd\n",
    "import os\n",
    "import gc\n",
    "import numpy as np\n",
    "import matplotlib.pyplot as plt\n",
    "plt.style.use('ggplot')\n",
    "\n",
    "\n",
    "\n",
    "from keras.preprocessing.text import Tokenizer\n",
    "from keras.preprocessing.text import text_to_word_sequence\n",
    "from keras.preprocessing.sequence import pad_sequences\n",
    "from keras.layers import *\n",
    "from keras.models import Model\n",
    "from keras.optimizers import Adam, SGD\n",
    "from keras.optimizers.schedules import ExponentialDecay\n",
    "from keras.losses import BinaryCrossentropy\n",
    "\n",
    "from gensim.models import Word2Vec\n",
    "\n"
   ]
  },
  {
   "cell_type": "code",
   "execution_count": 3,
   "metadata": {},
   "outputs": [
    {
     "name": "stderr",
     "output_type": "stream",
     "text": [
      "[nltk_data] Downloading package punkt to /home/celeste/nltk_data...\n",
      "[nltk_data]   Package punkt is already up-to-date!\n",
      "[nltk_data] Downloading package stopwords to\n",
      "[nltk_data]     /home/celeste/nltk_data...\n",
      "[nltk_data]   Package stopwords is already up-to-date!\n",
      "[nltk_data] Downloading package wordnet to /home/celeste/nltk_data...\n",
      "[nltk_data]   Package wordnet is already up-to-date!\n"
     ]
    }
   ],
   "source": [
    "data_loader = os.path.join('..','0_Data','0_DataLoader.ipynb')\n",
    "#Vectorizacion\n",
    "%run $data_loader"
   ]
  },
  {
   "cell_type": "code",
   "execution_count": 5,
   "metadata": {},
   "outputs": [],
   "source": []
  },
  {
   "cell_type": "code",
   "execution_count": 4,
   "metadata": {},
   "outputs": [],
   "source": [
    "def plot_history(history):\n",
    "    acc = history.history['accuracy']\n",
    "    loss = history.history['loss']\n",
    "    x = range(1, len(acc) + 1)\n",
    "\n",
    "    plt.figure(figsize=(12, 5))\n",
    "    plt.plot(x, acc, 'r', label='Training acc')\n",
    "    plt.plot(x, loss, 'b', label='Training loss')\n",
    "    plt.title('Training accuracy vs loss')\n",
    "    plt.legend()"
   ]
  },
  {
   "cell_type": "code",
   "execution_count": 28,
   "metadata": {},
   "outputs": [],
   "source": [
    "def run_model (train_x, train_y, val_x, val_y, test_x, test_y,\n",
    "               embed_size, max_features, max_len, \n",
    "               batch_size, epochs, get_model ):\n",
    "    ## Tokenize the sentences\n",
    "    tokenizer = Tokenizer(num_words=max_features)\n",
    "    tokenizer.fit_on_texts(list(train_x) + list(val_x))\n",
    "\n",
    "    train_X = tokenizer.texts_to_sequences(train_x)\n",
    "    train_X = pad_sequences(train_X, maxlen=max_len)\n",
    "\n",
    "    val_X = tokenizer.texts_to_sequences(val_x)\n",
    "    val_X = pad_sequences(val_X, maxlen=max_len)\n",
    "    \n",
    "    test_X = tokenizer.texts_to_sequences(test_x)\n",
    "    test_X = pad_sequences(test_X, maxlen=max_len)\n",
    "\n",
    "    model = get_model(max_features, embed_size, max_len)\n",
    "\n",
    "\n",
    "    history = model.fit(train_X, train_y,\n",
    "                        epochs=epochs,\n",
    "                        batch_size=batch_size,\n",
    "                       validation_data=(val_X, val_y),\n",
    "                       verbose=False)\n",
    "\n",
    "    #plot_history(history)\n",
    "\n",
    "    loss, accuracy = model.evaluate(train_X, train_y, verbose=False)\n",
    "    print(\"Training Accuracy: {:.4f}\".format(accuracy))\n",
    "    \n",
    "    loss, accuracy = model.evaluate(test_X, test_y, verbose=False)\n",
    "    print(\"Testing Accuracy: {:.4f}\".format(accuracy))\n",
    "    #test_pred_y = (model.predict(test_X, batch_size=1024, verbose=1) > 0.5).astype(\"int32\")\n",
    "    #print(\"Report: \\n{}\".format(classification_report(test_y, test_pred_y)))\n",
    "    return model, tokenizer"
   ]
  },
  {
   "cell_type": "markdown",
   "metadata": {},
   "source": [
    "# 1. Datos Originales"
   ]
  },
  {
   "cell_type": "code",
   "execution_count": 77,
   "metadata": {},
   "outputs": [],
   "source": [
    "# Se cargan los datos \n",
    "\n",
    "data = get_data_original_as_np_array()\n"
   ]
  },
  {
   "cell_type": "markdown",
   "metadata": {},
   "source": [
    "## 1.1 Comienzo con red simple con una sola capa conv1d"
   ]
  },
  {
   "cell_type": "code",
   "execution_count": 70,
   "metadata": {},
   "outputs": [],
   "source": [
    "def get_simple_conv1D(max_features, embed_size, max_len):\n",
    "    model = Sequential()\n",
    "    model.add(layers.Embedding(input_dim=max_features, output_dim=embed_size, input_length=max_len))\n",
    "    model.add(Conv1D(filters=64, kernel_size=2, activation='relu', input_shape=(max_len, embed_size)))\n",
    "    model.add(Dropout(0.5))\n",
    "    model.add(MaxPooling1D(pool_size=49))\n",
    "    model.add(Flatten())\n",
    "    model.add(Dense(100, activation='relu'))\n",
    "    model.add(Dense(1, activation=None))\n",
    "    model.compile(loss=BinaryCrossentropy(from_logits=True), optimizer='adam', metrics=['accuracy'])\n",
    "    \n",
    "    model.summary()\n",
    "    return model"
   ]
  },
  {
   "cell_type": "code",
   "execution_count": 32,
   "metadata": {
    "scrolled": false
   },
   "outputs": [
    {
     "name": "stdout",
     "output_type": "stream",
     "text": [
      "Model: \"sequential_9\"\n",
      "_________________________________________________________________\n",
      "Layer (type)                 Output Shape              Param #   \n",
      "=================================================================\n",
      "embedding_8 (Embedding)      (None, 50, 70)            875000    \n",
      "_________________________________________________________________\n",
      "conv1d_8 (Conv1D)            (None, 49, 64)            9024      \n",
      "_________________________________________________________________\n",
      "dropout_8 (Dropout)          (None, 49, 64)            0         \n",
      "_________________________________________________________________\n",
      "max_pooling1d_7 (MaxPooling1 (None, 1, 64)             0         \n",
      "_________________________________________________________________\n",
      "flatten_6 (Flatten)          (None, 64)                0         \n",
      "_________________________________________________________________\n",
      "dense_12 (Dense)             (None, 100)               6500      \n",
      "_________________________________________________________________\n",
      "dense_13 (Dense)             (None, 1)                 101       \n",
      "=================================================================\n",
      "Total params: 890,625\n",
      "Trainable params: 890,625\n",
      "Non-trainable params: 0\n",
      "_________________________________________________________________\n",
      "Training Accuracy: 0.9957\n",
      "Testing Accuracy: 0.7564\n"
     ]
    }
   ],
   "source": [
    "model, tokenizer = run_model(data.x_train,data.y_train, data.x_val, data.y_val, data.x_test, data.y_test,\n",
    "                             embed_size = 70, max_features=12500, max_len = 50,\n",
    "                            batch_size = 512, epochs=20, get_model = get_simple_conv1D)"
   ]
  },
  {
   "cell_type": "code",
   "execution_count": null,
   "metadata": {},
   "outputs": [],
   "source": []
  },
  {
   "cell_type": "markdown",
   "metadata": {},
   "source": [
    "## 1.2. Aplico convolucion para bigramas y trigramas"
   ]
  },
  {
   "cell_type": "code",
   "execution_count": 79,
   "metadata": {},
   "outputs": [],
   "source": [
    "def get_ngrams_conv1D(max_features, embed_size, max_len):\n",
    "    \n",
    "    embedding_layer = Embedding(input_dim=max_features, output_dim=embed_size, input_length=max_len) \n",
    "    \n",
    "    inputs = Input(shape=(max_len,), dtype='int32')\n",
    "    \n",
    "    embedding = embedding_layer(inputs)\n",
    "    \n",
    "    conv_0 = Conv1D(filters=64, kernel_size=2, activation='relu', input_shape=(max_len, embed_size))(embedding)    \n",
    "    maxpool_0 = MaxPooling1D(pool_size=4)(conv_0)\n",
    "    \n",
    "    conv_1 = Conv1D(filters=64, kernel_size=3, activation='relu', input_shape=(max_len, embed_size))(embedding)    \n",
    "    maxpool_1 = MaxPooling1D(pool_size=4)(conv_1)\n",
    "    \n",
    "    concatenated_tensor = Concatenate(axis=1)([maxpool_0, maxpool_1])\n",
    "    \n",
    "    flatten = Flatten()(concatenated_tensor)\n",
    "    \n",
    "    dropout = Dropout(0.5)(flatten)\n",
    "    \n",
    "    dense0 = Dense(100, activation='relu')(dropout)\n",
    "    \n",
    "    output = Dense(1, activation=None)(dense0)\n",
    "    \n",
    "    model = Model(inputs=inputs, outputs=output)\n",
    "\n",
    "    model.compile(loss=BinaryCrossentropy(from_logits=True), optimizer='adam', metrics=['accuracy'])\n",
    "    \n",
    "    model.summary()\n",
    "    return model\n",
    "        "
   ]
  },
  {
   "cell_type": "code",
   "execution_count": 80,
   "metadata": {},
   "outputs": [
    {
     "name": "stdout",
     "output_type": "stream",
     "text": [
      "Model: \"model_7\"\n",
      "__________________________________________________________________________________________________\n",
      "Layer (type)                    Output Shape         Param #     Connected to                     \n",
      "==================================================================================================\n",
      "input_18 (InputLayer)           [(None, 50)]         0                                            \n",
      "__________________________________________________________________________________________________\n",
      "embedding_28 (Embedding)        (None, 50, 70)       875000      input_18[0][0]                   \n",
      "__________________________________________________________________________________________________\n",
      "conv1d_34 (Conv1D)              (None, 49, 64)       9024        embedding_28[0][0]               \n",
      "__________________________________________________________________________________________________\n",
      "conv1d_35 (Conv1D)              (None, 48, 64)       13504       embedding_28[0][0]               \n",
      "__________________________________________________________________________________________________\n",
      "max_pooling1d_29 (MaxPooling1D) (None, 12, 64)       0           conv1d_34[0][0]                  \n",
      "__________________________________________________________________________________________________\n",
      "max_pooling1d_30 (MaxPooling1D) (None, 12, 64)       0           conv1d_35[0][0]                  \n",
      "__________________________________________________________________________________________________\n",
      "concatenate_7 (Concatenate)     (None, 24, 64)       0           max_pooling1d_29[0][0]           \n",
      "                                                                 max_pooling1d_30[0][0]           \n",
      "__________________________________________________________________________________________________\n",
      "flatten_18 (Flatten)            (None, 1536)         0           concatenate_7[0][0]              \n",
      "__________________________________________________________________________________________________\n",
      "dropout_14 (Dropout)            (None, 1536)         0           flatten_18[0][0]                 \n",
      "__________________________________________________________________________________________________\n",
      "dense_32 (Dense)                (None, 100)          153700      dropout_14[0][0]                 \n",
      "__________________________________________________________________________________________________\n",
      "dense_33 (Dense)                (None, 1)            101         dense_32[0][0]                   \n",
      "==================================================================================================\n",
      "Total params: 1,051,329\n",
      "Trainable params: 1,051,329\n",
      "Non-trainable params: 0\n",
      "__________________________________________________________________________________________________\n",
      "Training Accuracy: 0.9949\n",
      "Testing Accuracy: 0.7676\n"
     ]
    }
   ],
   "source": [
    "model, tokenizer = run_model(data.x_train,data.y_train, data.x_val, data.y_val, data.x_test, data.y_test,\n",
    "                             embed_size = 70, max_features=12500, max_len = 50,\n",
    "                            batch_size = 512, epochs=20, get_model = get_ngrams_conv1D)"
   ]
  },
  {
   "cell_type": "markdown",
   "metadata": {},
   "source": [
    "## 1.3 embeddings + bigrams + trigrams"
   ]
  },
  {
   "cell_type": "code",
   "execution_count": 85,
   "metadata": {},
   "outputs": [],
   "source": [
    "def get_emb_ngrams_conv1D(max_features, embed_size, max_len):\n",
    "    \n",
    "    embedding_layer = Embedding(input_dim=max_features, output_dim=embed_size, input_length=max_len) \n",
    "    \n",
    "    inputs = Input(shape=(max_len,), dtype='int32')\n",
    "    \n",
    "    embedding = embedding_layer(inputs)\n",
    "    \n",
    "    conv_2 = Conv1D(filters=64, kernel_size=1, activation='relu', input_shape=(max_len, embed_size))(embedding)    \n",
    "    maxpool_2 = MaxPooling1D(pool_size=max_len)(conv_2)\n",
    "    \n",
    "    conv_0 = Conv1D(filters=64, kernel_size=2, activation='relu', input_shape=(max_len, embed_size))(embedding)    \n",
    "    maxpool_0 = MaxPooling1D(pool_size=max_len-2+1)(conv_0)\n",
    "    \n",
    "    conv_1 = Conv1D(filters=64, kernel_size=3, activation='relu', input_shape=(max_len, embed_size))(embedding)    \n",
    "    maxpool_1 = MaxPooling1D(pool_size=max_len-3+1)(conv_1)\n",
    "    \n",
    "    concatenated_tensor = Concatenate(axis=1)([maxpool_2, maxpool_0, maxpool_1])\n",
    "    \n",
    "    flatten = Flatten()(concatenated_tensor)\n",
    "    \n",
    "    dropout = Dropout(0.5)(flatten)\n",
    "    \n",
    "    dense0 = Dense(3, activation='relu')(dropout)\n",
    "    \n",
    "    output = Dense(1, activation=None)(dense0)\n",
    "    \n",
    "    model = Model(inputs=inputs, outputs=output)\n",
    "\n",
    "    model.compile(loss=BinaryCrossentropy(from_logits=True), optimizer='adam', metrics=['accuracy'])\n",
    "    \n",
    "    model.summary()\n",
    "    return model"
   ]
  },
  {
   "cell_type": "code",
   "execution_count": 87,
   "metadata": {},
   "outputs": [
    {
     "name": "stdout",
     "output_type": "stream",
     "text": [
      "Model: \"model_10\"\n",
      "__________________________________________________________________________________________________\n",
      "Layer (type)                    Output Shape         Param #     Connected to                     \n",
      "==================================================================================================\n",
      "input_22 (InputLayer)           [(None, 50)]         0                                            \n",
      "__________________________________________________________________________________________________\n",
      "embedding_32 (Embedding)        (None, 50, 100)      2000000     input_22[0][0]                   \n",
      "__________________________________________________________________________________________________\n",
      "conv1d_44 (Conv1D)              (None, 50, 64)       6464        embedding_32[0][0]               \n",
      "__________________________________________________________________________________________________\n",
      "conv1d_45 (Conv1D)              (None, 49, 64)       12864       embedding_32[0][0]               \n",
      "__________________________________________________________________________________________________\n",
      "conv1d_46 (Conv1D)              (None, 48, 64)       19264       embedding_32[0][0]               \n",
      "__________________________________________________________________________________________________\n",
      "max_pooling1d_39 (MaxPooling1D) (None, 1, 64)        0           conv1d_44[0][0]                  \n",
      "__________________________________________________________________________________________________\n",
      "max_pooling1d_40 (MaxPooling1D) (None, 1, 64)        0           conv1d_45[0][0]                  \n",
      "__________________________________________________________________________________________________\n",
      "max_pooling1d_41 (MaxPooling1D) (None, 1, 64)        0           conv1d_46[0][0]                  \n",
      "__________________________________________________________________________________________________\n",
      "concatenate_11 (Concatenate)    (None, 3, 64)        0           max_pooling1d_39[0][0]           \n",
      "                                                                 max_pooling1d_40[0][0]           \n",
      "                                                                 max_pooling1d_41[0][0]           \n",
      "__________________________________________________________________________________________________\n",
      "flatten_21 (Flatten)            (None, 192)          0           concatenate_11[0][0]             \n",
      "__________________________________________________________________________________________________\n",
      "dropout_17 (Dropout)            (None, 192)          0           flatten_21[0][0]                 \n",
      "__________________________________________________________________________________________________\n",
      "dense_38 (Dense)                (None, 3)            579         dropout_17[0][0]                 \n",
      "__________________________________________________________________________________________________\n",
      "dense_39 (Dense)                (None, 1)            4           dense_38[0][0]                   \n",
      "==================================================================================================\n",
      "Total params: 2,039,175\n",
      "Trainable params: 2,039,175\n",
      "Non-trainable params: 0\n",
      "__________________________________________________________________________________________________\n",
      "Training Accuracy: 0.9977\n",
      "Testing Accuracy: 0.7617\n"
     ]
    }
   ],
   "source": [
    "model, tokenizer = run_model(data.x_train,data.y_train, data.x_val, data.y_val, data.x_test, data.y_test,\n",
    "                             embed_size = 100, max_features=20000, max_len = 50,\n",
    "                            batch_size = 512, epochs=20, get_model = get_emb_ngrams_conv1D)"
   ]
  },
  {
   "cell_type": "markdown",
   "metadata": {},
   "source": [
    "# 2. Datos Preprocesados"
   ]
  },
  {
   "cell_type": "code",
   "execution_count": 76,
   "metadata": {},
   "outputs": [],
   "source": [
    "# Se cargan los datos \n",
    "\n",
    "data_prep = get_data_sentiment_analysis_as_np_array()\n"
   ]
  },
  {
   "cell_type": "markdown",
   "metadata": {},
   "source": [
    "## 2.1  aplico 1 sola capa conv1d\n"
   ]
  },
  {
   "cell_type": "code",
   "execution_count": 72,
   "metadata": {},
   "outputs": [
    {
     "name": "stdout",
     "output_type": "stream",
     "text": [
      "Model: \"sequential_11\"\n",
      "_________________________________________________________________\n",
      "Layer (type)                 Output Shape              Param #   \n",
      "=================================================================\n",
      "embedding_25 (Embedding)     (None, 50, 70)            875000    \n",
      "_________________________________________________________________\n",
      "conv1d_29 (Conv1D)           (None, 49, 64)            9024      \n",
      "_________________________________________________________________\n",
      "dropout_11 (Dropout)         (None, 49, 64)            0         \n",
      "_________________________________________________________________\n",
      "max_pooling1d_24 (MaxPooling (None, 1, 64)             0         \n",
      "_________________________________________________________________\n",
      "flatten_15 (Flatten)         (None, 64)                0         \n",
      "_________________________________________________________________\n",
      "dense_26 (Dense)             (None, 100)               6500      \n",
      "_________________________________________________________________\n",
      "dense_27 (Dense)             (None, 1)                 101       \n",
      "=================================================================\n",
      "Total params: 890,625\n",
      "Trainable params: 890,625\n",
      "Non-trainable params: 0\n",
      "_________________________________________________________________\n",
      "Training Accuracy: 0.9881\n",
      "Testing Accuracy: 0.7551\n"
     ]
    }
   ],
   "source": [
    "model, tokenizer = run_model(data_prep.x_train,data_prep.y_train, data_prep.x_val, data_prep.y_val, data_prep.x_test, data_prep.y_test,\n",
    "                             embed_size = 70, max_features=12500, max_len = 50,\n",
    "                            batch_size = 512, epochs=20, get_model = get_simple_conv1D)"
   ]
  },
  {
   "cell_type": "markdown",
   "metadata": {},
   "source": [
    "## 2.2  Aplico convolucion para bigramas y trigramas\n"
   ]
  },
  {
   "cell_type": "code",
   "execution_count": 73,
   "metadata": {},
   "outputs": [
    {
     "name": "stdout",
     "output_type": "stream",
     "text": [
      "Model: \"model_5\"\n",
      "__________________________________________________________________________________________________\n",
      "Layer (type)                    Output Shape         Param #     Connected to                     \n",
      "==================================================================================================\n",
      "input_16 (InputLayer)           [(None, 50)]         0                                            \n",
      "__________________________________________________________________________________________________\n",
      "embedding_26 (Embedding)        (None, 50, 70)       875000      input_16[0][0]                   \n",
      "__________________________________________________________________________________________________\n",
      "conv1d_30 (Conv1D)              (None, 49, 64)       9024        embedding_26[0][0]               \n",
      "__________________________________________________________________________________________________\n",
      "conv1d_31 (Conv1D)              (None, 48, 64)       13504       embedding_26[0][0]               \n",
      "__________________________________________________________________________________________________\n",
      "max_pooling1d_25 (MaxPooling1D) (None, 24, 64)       0           conv1d_30[0][0]                  \n",
      "__________________________________________________________________________________________________\n",
      "max_pooling1d_26 (MaxPooling1D) (None, 24, 64)       0           conv1d_31[0][0]                  \n",
      "__________________________________________________________________________________________________\n",
      "concatenate_5 (Concatenate)     (None, 48, 64)       0           max_pooling1d_25[0][0]           \n",
      "                                                                 max_pooling1d_26[0][0]           \n",
      "__________________________________________________________________________________________________\n",
      "flatten_16 (Flatten)            (None, 3072)         0           concatenate_5[0][0]              \n",
      "__________________________________________________________________________________________________\n",
      "dropout_12 (Dropout)            (None, 3072)         0           flatten_16[0][0]                 \n",
      "__________________________________________________________________________________________________\n",
      "dense_28 (Dense)                (None, 100)          307300      dropout_12[0][0]                 \n",
      "__________________________________________________________________________________________________\n",
      "dense_29 (Dense)                (None, 1)            101         dense_28[0][0]                   \n",
      "==================================================================================================\n",
      "Total params: 1,204,929\n",
      "Trainable params: 1,204,929\n",
      "Non-trainable params: 0\n",
      "__________________________________________________________________________________________________\n",
      "Training Accuracy: 0.9889\n",
      "Testing Accuracy: 0.7610\n"
     ]
    }
   ],
   "source": [
    "model, tokenizer = run_model(data_prep.x_train,data_prep.y_train, data_prep.x_val, data_prep.y_val, data_prep.x_test, data_prep.y_test,\n",
    "                             embed_size = 70, max_features=12500, max_len = 50,\n",
    "                            batch_size = 512, epochs=20, get_model = get_ngrams_conv1D)"
   ]
  },
  {
   "cell_type": "code",
   "execution_count": null,
   "metadata": {},
   "outputs": [],
   "source": []
  }
 ],
 "metadata": {
  "kernelspec": {
   "display_name": "Python 3",
   "language": "python",
   "name": "python3"
  },
  "language_info": {
   "codemirror_mode": {
    "name": "ipython",
    "version": 3
   },
   "file_extension": ".py",
   "mimetype": "text/x-python",
   "name": "python",
   "nbconvert_exporter": "python",
   "pygments_lexer": "ipython3",
   "version": "3.7.6"
  }
 },
 "nbformat": 4,
 "nbformat_minor": 4
}
