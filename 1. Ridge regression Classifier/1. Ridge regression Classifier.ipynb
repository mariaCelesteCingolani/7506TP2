{
 "cells": [
  {
   "cell_type": "markdown",
   "metadata": {},
   "source": [
    "# 7506 - Organizacion de Datos - TP N°2"
   ]
  },
  {
   "cell_type": "markdown",
   "metadata": {},
   "source": [
    "#  Ridge Regression Classifier"
   ]
  },
  {
   "cell_type": "markdown",
   "metadata": {},
   "source": [
    "# 1. Librerias\n"
   ]
  },
  {
   "cell_type": "code",
   "execution_count": 2,
   "metadata": {},
   "outputs": [
    {
     "name": "stderr",
     "output_type": "stream",
     "text": [
      "[nltk_data] Downloading package punkt to\n",
      "[nltk_data]     C:\\Users\\germa\\AppData\\Roaming\\nltk_data...\n",
      "[nltk_data]   Package punkt is already up-to-date!\n",
      "[nltk_data] Downloading package stopwords to\n",
      "[nltk_data]     C:\\Users\\germa\\AppData\\Roaming\\nltk_data...\n",
      "[nltk_data]   Package stopwords is already up-to-date!\n",
      "[nltk_data] Downloading package wordnet to\n",
      "[nltk_data]     C:\\Users\\germa\\AppData\\Roaming\\nltk_data...\n",
      "[nltk_data]   Package wordnet is already up-to-date!\n"
     ]
    },
    {
     "name": "stdout",
     "output_type": "stream",
     "text": [
      "Wall time: 5.48 s\n",
      "Wall time: 2.39 s\n"
     ]
    }
   ],
   "source": [
    "%run ../0_Data/0_DataLoaderBOW_TFIDF.ipynb\n",
    "\n",
    "\n",
    "#Paquetes Clasicos\n",
    "import numpy as np\n",
    "import pandas as pd\n",
    "import matplotlib.pyplot as plt\n",
    "import seaborn as sns\n",
    "\n",
    "#Pipelines\n",
    "from sklearn.pipeline import Pipeline\n",
    "\n",
    "#Tuning de Parametros\n",
    "from sklearn.model_selection import GridSearchCV\n",
    "\n",
    "#Clasificador\n",
    "from sklearn.linear_model import RidgeClassifier # Classifier using Ridge regression."
   ]
  },
  {
   "cell_type": "code",
   "execution_count": null,
   "metadata": {},
   "outputs": [],
   "source": [
    "pipeline_tfidf = Pipeline([('tfidf',TfidfVectorizer())])"
   ]
  },
  {
   "cell_type": "markdown",
   "metadata": {},
   "source": [
    "# 5. Pipelines"
   ]
  },
  {
   "cell_type": "markdown",
   "metadata": {},
   "source": [
    "## 5.1 Pipeline BOW"
   ]
  },
  {
   "cell_type": "code",
   "execution_count": null,
   "metadata": {},
   "outputs": [],
   "source": [
    "pipeline_bow_RR = Pipeline([('vectorizador', CountVectorizer()),('clf', RidgeClassifier())])"
   ]
  },
  {
   "cell_type": "markdown",
   "metadata": {},
   "source": [
    "## 5.2 Pipeline TFIDF "
   ]
  },
  {
   "cell_type": "code",
   "execution_count": null,
   "metadata": {},
   "outputs": [],
   "source": [
    "pipeline_tfidf_RR = Pipeline([('vectorizador',TfidfVectorizer()),('clf', RidgeClassifier())])"
   ]
  },
  {
   "cell_type": "markdown",
   "metadata": {},
   "source": [
    "# 6 Tuning de Parametros - GridSearch"
   ]
  },
  {
   "cell_type": "markdown",
   "metadata": {},
   "source": [
    "## 6.1 BOW"
   ]
  },
  {
   "cell_type": "markdown",
   "metadata": {},
   "source": [
    "### 6.1.1 BOW - Texto sin Preprocesar - Vectorizador y Modelo sin optimizar Hiperparametros"
   ]
  },
  {
   "cell_type": "code",
   "execution_count": null,
   "metadata": {},
   "outputs": [],
   "source": [
    "#No se setean variantes a los Hiperparametros\n",
    "\n",
    "grid_parametros = {}\n",
    "\n",
    "clf_1 = GridSearchCV(pipeline_bow_RR, grid_parametros,cv=5, n_jobs=-1,scoring='f1')\n",
    "clf_1.fit(x_train_original, y_train)\n",
    "\n",
    "print(\"Mejor Score: \", clf_1.best_score_)\n",
    "print(\"Mejores Parametros: \", clf_1.best_params_)\n"
   ]
  },
  {
   "cell_type": "markdown",
   "metadata": {},
   "source": [
    "Generacion del SUBMIT"
   ]
  },
  {
   "cell_type": "markdown",
   "metadata": {},
   "source": [
    "Leo el archivo .csv modelo que tenemos se utilizar para realizar el submit a Kaggle"
   ]
  },
  {
   "cell_type": "code",
   "execution_count": null,
   "metadata": {},
   "outputs": [],
   "source": [
    "submission = pd.read_csv('../dataset/sample_submission.csv')"
   ]
  },
  {
   "cell_type": "markdown",
   "metadata": {},
   "source": [
    "Creo una nueva columna con los valores que predice el modelo"
   ]
  },
  {
   "cell_type": "code",
   "execution_count": null,
   "metadata": {},
   "outputs": [],
   "source": [
    "submission['target'] = clf_1.predict(x_test_original)"
   ]
  },
  {
   "cell_type": "markdown",
   "metadata": {},
   "source": [
    "Guardo el archivo .csv para realizar el submit a Kaggle"
   ]
  },
  {
   "cell_type": "code",
   "execution_count": null,
   "metadata": {},
   "outputs": [],
   "source": [
    "submission.to_csv(\"original_bow_nohiper_ridge_regression.csv\", index=False)"
   ]
  },
  {
   "cell_type": "markdown",
   "metadata": {},
   "source": [
    "### 6.1.2 BOW - Texto Preprocesado - Vectorizador y Modelo sin optimizar Hiperparametros"
   ]
  },
  {
   "cell_type": "code",
   "execution_count": null,
   "metadata": {},
   "outputs": [],
   "source": [
    "#No se setean variantes a los Hiperparametros\n",
    "\n",
    "grid_parametros = {}\n",
    "\n",
    "clf_2 = GridSearchCV(pipeline_bow_RR, grid_parametros,cv=5, n_jobs=-1,scoring='f1')\n",
    "clf_2.fit(x_train_preprocesado, y_train)\n",
    "\n",
    "print(\"Mejor Score: \", clf_2.best_score_)\n",
    "print(\"Mejores Parametros: \", clf_2.best_params_)"
   ]
  },
  {
   "cell_type": "markdown",
   "metadata": {},
   "source": [
    "Generacion del SUBMIT"
   ]
  },
  {
   "cell_type": "markdown",
   "metadata": {},
   "source": [
    "Leo el archivo .csv modelo que tenemos se utilizar para realizar el submit a Kaggle"
   ]
  },
  {
   "cell_type": "code",
   "execution_count": null,
   "metadata": {},
   "outputs": [],
   "source": [
    "submission = pd.read_csv('../dataset/sample_submission.csv')"
   ]
  },
  {
   "cell_type": "markdown",
   "metadata": {},
   "source": [
    "Creo una nueva columna con los valores que predice el modelo"
   ]
  },
  {
   "cell_type": "code",
   "execution_count": null,
   "metadata": {},
   "outputs": [],
   "source": [
    "submission['target'] = clf_2.predict(x_test_preprocesado)"
   ]
  },
  {
   "cell_type": "markdown",
   "metadata": {},
   "source": [
    "Guardo el archivo .csv para realizar el submit a Kaggle"
   ]
  },
  {
   "cell_type": "code",
   "execution_count": null,
   "metadata": {},
   "outputs": [],
   "source": [
    "submission.to_csv(\"preprocesado_bow_nohiper_ridge_regression.csv\", index=False)"
   ]
  },
  {
   "cell_type": "markdown",
   "metadata": {},
   "source": [
    "### 6.1.3 BOW - Texto sin Preprocesar - Vectorizador y Modelo optimizando Hiperparametros"
   ]
  },
  {
   "cell_type": "code",
   "execution_count": null,
   "metadata": {},
   "outputs": [],
   "source": [
    "#Opcion a\n",
    "\n",
    "grid_parametros = {'clf__alpha': np.arange(0.1,1.1,0.1),\n",
    "                  'vectorizador__ngram_range': [(1,1),(1,2),(1,3)]}\n",
    "                   \n",
    "clf_5a = GridSearchCV(pipeline_bow_RR, grid_parametros,cv=5, n_jobs=-1,scoring='f1')\n",
    "clf_5a.fit(x_train_original, y_train)\n",
    "\n",
    "print(\"Mejor Score: \", clf_5a.best_score_)\n",
    "print(\"Mejores Parametros: \", clf_5a.best_params_)"
   ]
  },
  {
   "cell_type": "code",
   "execution_count": null,
   "metadata": {},
   "outputs": [],
   "source": [
    "#Opcion b\n",
    "\n",
    "grid_parametros = {'clf__alpha': np.arange(1,5.2,0.2),\n",
    "                  'vectorizador__ngram_range': [(1,1),(1,2),(1,3)]}\n",
    "                   \n",
    "clf_5b = GridSearchCV(pipeline_bow_RR, grid_parametros,cv=5, n_jobs=-1,scoring='f1')\n",
    "clf_5b.fit(x_train_original, y_train)\n",
    "\n",
    "print(\"Mejor Score: \", clf_5b.best_score_)\n",
    "print(\"Mejores Parametros: \", clf_5b.best_params_)"
   ]
  },
  {
   "cell_type": "code",
   "execution_count": null,
   "metadata": {},
   "outputs": [],
   "source": [
    "#Opcion c\n",
    "\n",
    "grid_parametros = {'clf__alpha': np.arange(0.01,0.1,0.01),\n",
    "                   'vectorizador__ngram_range': [(1,1),(1,2),(1,3)]}\n",
    "                   \n",
    "clf_5c = GridSearchCV(pipeline_bow_RR, grid_parametros,cv=5, n_jobs=-1,scoring='f1')\n",
    "clf_5c.fit(x_train_original, y_train)\n",
    "\n",
    "print(\"Mejor Score: \", clf_5c.best_score_)\n",
    "print(\"Mejores Parametros: \", clf_5c.best_params_)"
   ]
  },
  {
   "cell_type": "code",
   "execution_count": null,
   "metadata": {},
   "outputs": [],
   "source": [
    "#Opcion d\n",
    "\n",
    "grid_parametros = {'clf__alpha': np.arange(0.001,0.011,0.001),\n",
    "                   'vectorizador__ngram_range': [(1,1),(1,2),(1,3)]}\n",
    "                   \n",
    "clf_5d = GridSearchCV(pipeline_bow_RR, grid_parametros,cv=5, n_jobs=-1,scoring='f1')\n",
    "clf_5d.fit(x_train_original, y_train)\n",
    "\n",
    "print(\"Mejor Score: \", clf_5d.best_score_)\n",
    "print(\"Mejores Parametros: \", clf_5d.best_params_)"
   ]
  },
  {
   "cell_type": "code",
   "execution_count": null,
   "metadata": {},
   "outputs": [],
   "source": [
    "#Opcion e\n",
    "\n",
    "grid_parametros = {'clf__alpha': np.arange(0.0001,0.0011,0.0001),\n",
    "                   'vectorizador__ngram_range': [(1,1),(1,2),(1,3)]}\n",
    "                   \n",
    "clf_5e = GridSearchCV(pipeline_bow_RR, grid_parametros,cv=5, n_jobs=-1,scoring='f1')\n",
    "clf_5e.fit(x_train_original, y_train)\n",
    "\n",
    "print(\"Mejor Score: \", clf_5e.best_score_)\n",
    "print(\"Mejores Parametros: \", clf_5e.best_params_)"
   ]
  },
  {
   "cell_type": "code",
   "execution_count": null,
   "metadata": {},
   "outputs": [],
   "source": [
    "#Opcion f\n",
    "\n",
    "grid_parametros = {'clf__alpha': np.arange(0.001,0.011,0.001),\n",
    "                   'vectorizador__ngram_range': [(1,3),(1,4)]}\n",
    "                   \n",
    "clf_5f = GridSearchCV(pipeline_bow_RR, grid_parametros,cv=5, n_jobs=-1,scoring='f1')\n",
    "clf_5f.fit(x_train_original, y_train)\n",
    "\n",
    "print(\"Mejor Score: \", clf_5f.best_score_)\n",
    "print(\"Mejores Parametros: \", clf_5f.best_params_)"
   ]
  },
  {
   "cell_type": "code",
   "execution_count": null,
   "metadata": {},
   "outputs": [],
   "source": [
    "#Opcion g\n",
    "\n",
    "grid_parametros = {'clf__alpha': np.arange(0.0001,0.0011,0.0001),\n",
    "                   'vectorizador__ngram_range': [(1,3),(1,4)]}\n",
    "                   \n",
    "clf_5g = GridSearchCV(pipeline_bow_RR, grid_parametros,cv=5, n_jobs=-1,scoring='f1')\n",
    "clf_5g.fit(x_train_original, y_train)\n",
    "\n",
    "print(\"Mejor Score: \", clf_5g.best_score_)\n",
    "print(\"Mejores Parametros: \", clf_5g.best_params_)"
   ]
  },
  {
   "cell_type": "markdown",
   "metadata": {},
   "source": [
    "Generacion del SUBMIT"
   ]
  },
  {
   "cell_type": "markdown",
   "metadata": {},
   "source": [
    "Leo el archivo .csv modelo que tenemos se utilizar para realizar el submit a Kaggle"
   ]
  },
  {
   "cell_type": "code",
   "execution_count": null,
   "metadata": {},
   "outputs": [],
   "source": [
    "submission = pd.read_csv('../dataset/sample_submission.csv')"
   ]
  },
  {
   "cell_type": "markdown",
   "metadata": {},
   "source": [
    "Creo una nueva columna con los valores que predice el modelo"
   ]
  },
  {
   "cell_type": "code",
   "execution_count": null,
   "metadata": {},
   "outputs": [],
   "source": [
    "submission['target'] = clf_5d.predict(x_test_original)"
   ]
  },
  {
   "cell_type": "markdown",
   "metadata": {},
   "source": [
    "Guardo el archivo .csv para realizar el submit a Kaggle"
   ]
  },
  {
   "cell_type": "code",
   "execution_count": null,
   "metadata": {},
   "outputs": [],
   "source": [
    "submission.to_csv(\"original_bow_hiper_ridge_regression.csv\", index=False)"
   ]
  },
  {
   "cell_type": "markdown",
   "metadata": {},
   "source": [
    "### 6.1.4 BOW - Texto Preprocesado - Vectorizador y Modelo optimizando Hiperparametros"
   ]
  },
  {
   "cell_type": "code",
   "execution_count": null,
   "metadata": {},
   "outputs": [],
   "source": [
    "#Opcion a\n",
    "\n",
    "grid_parametros = {'clf__alpha': np.arange(0.1,1.1,0.1),\n",
    "                  'vectorizador__ngram_range': [(1,1),(1,2),(1,3)]}\n",
    "                   \n",
    "clf_6a = GridSearchCV(pipeline_bow_RR, grid_parametros,cv=5, n_jobs=-1,scoring='f1')\n",
    "clf_6a.fit(x_train_preprocesado, y_train)\n",
    "\n",
    "print(\"Mejor Score: \", clf_6a.best_score_)\n",
    "print(\"Mejores Parametros: \", clf_6a.best_params_)"
   ]
  },
  {
   "cell_type": "code",
   "execution_count": null,
   "metadata": {},
   "outputs": [],
   "source": [
    "#Opcion b\n",
    "\n",
    "grid_parametros = {'clf__alpha': np.arange(1,5.2,0.2),\n",
    "                  'vectorizador__ngram_range': [(1,1),(1,2),(1,3)]}\n",
    "                   \n",
    "clf_6b = GridSearchCV(pipeline_bow_RR, grid_parametros,cv=5, n_jobs=-1,scoring='f1')\n",
    "clf_6b.fit(x_train_preprocesado, y_train)\n",
    "\n",
    "print(\"Mejor Score: \", clf_6b.best_score_)\n",
    "print(\"Mejores Parametros: \", clf_6b.best_params_)"
   ]
  },
  {
   "cell_type": "code",
   "execution_count": null,
   "metadata": {},
   "outputs": [],
   "source": [
    "#Opcion c\n",
    "\n",
    "grid_parametros = {'clf__alpha': np.arange(0.01,0.1,0.01),\n",
    "                   'vectorizador__ngram_range': [(1,1),(1,2),(1,3)]}\n",
    "                   \n",
    "clf_6c = GridSearchCV(pipeline_bow_RR, grid_parametros,cv=5, n_jobs=-1,scoring='f1')\n",
    "clf_6c.fit(x_train_preprocesado, y_train)\n",
    "\n",
    "print(\"Mejor Score: \", clf_6c.best_score_)\n",
    "print(\"Mejores Parametros: \", clf_6c.best_params_)"
   ]
  },
  {
   "cell_type": "code",
   "execution_count": null,
   "metadata": {},
   "outputs": [],
   "source": [
    "#Opcion d\n",
    "\n",
    "grid_parametros = {'clf__alpha': np.arange(0.001,0.011,0.001),\n",
    "                   'vectorizador__ngram_range': [(1,1),(1,2),(1,3)]}\n",
    "                   \n",
    "clf_6d = GridSearchCV(pipeline_bow_RR, grid_parametros,cv=5, n_jobs=-1,scoring='f1')\n",
    "clf_6d.fit(x_train_preprocesado, y_train)\n",
    "\n",
    "print(\"Mejor Score: \", clf_6d.best_score_)\n",
    "print(\"Mejores Parametros: \", clf_6d.best_params_)"
   ]
  },
  {
   "cell_type": "code",
   "execution_count": null,
   "metadata": {},
   "outputs": [],
   "source": [
    "#Opcion e\n",
    "\n",
    "grid_parametros = {'clf__alpha': np.arange(0.0001,0.0011,0.0001),\n",
    "                   'vectorizador__ngram_range': [(1,1),(1,2),(1,3)]}\n",
    "                   \n",
    "clf_6e = GridSearchCV(pipeline_bow_RR, grid_parametros,cv=5, n_jobs=-1,scoring='f1')\n",
    "clf_6e.fit(x_train_preprocesado, y_train)\n",
    "\n",
    "print(\"Mejor Score: \", clf_6e.best_score_)\n",
    "print(\"Mejores Parametros: \", clf_6e.best_params_)"
   ]
  },
  {
   "cell_type": "code",
   "execution_count": null,
   "metadata": {},
   "outputs": [],
   "source": [
    "#Opcion f\n",
    "\n",
    "grid_parametros = {'clf__alpha': np.arange(0.001,0.011,0.001),\n",
    "                   'vectorizador__ngram_range': [(1,3),(1,4)]}\n",
    "                   \n",
    "clf_6f = GridSearchCV(pipeline_bow_RR, grid_parametros,cv=5, n_jobs=-1,scoring='f1')\n",
    "clf_6f.fit(x_train_preprocesado, y_train)\n",
    "\n",
    "print(\"Mejor Score: \", clf_6f.best_score_)\n",
    "print(\"Mejores Parametros: \", clf_6f.best_params_)"
   ]
  },
  {
   "cell_type": "code",
   "execution_count": null,
   "metadata": {},
   "outputs": [],
   "source": [
    "#Opcion g\n",
    "\n",
    "grid_parametros = {'clf__alpha': np.arange(0.0001,0.0011,0.0001),\n",
    "                   'vectorizador__ngram_range': [(1,3),(1,4)]}\n",
    "                   \n",
    "clf_6g = GridSearchCV(pipeline_bow_RR, grid_parametros,cv=5, n_jobs=-1,scoring='f1')\n",
    "clf_6g.fit(x_train_preprocesado, y_train)\n",
    "\n",
    "print(\"Mejor Score: \", clf_6g.best_score_)\n",
    "print(\"Mejores Parametros: \", clf_6g.best_params_)"
   ]
  },
  {
   "cell_type": "markdown",
   "metadata": {},
   "source": [
    "Generacion del SUBMIT"
   ]
  },
  {
   "cell_type": "markdown",
   "metadata": {},
   "source": [
    "Leo el archivo .csv modelo que tenemos se utilizar para realizar el submit a Kaggle"
   ]
  },
  {
   "cell_type": "code",
   "execution_count": null,
   "metadata": {},
   "outputs": [],
   "source": [
    "submission = pd.read_csv('sample_submission.csv')"
   ]
  },
  {
   "cell_type": "markdown",
   "metadata": {},
   "source": [
    "Creo una nueva columna con los valores que predice el modelo"
   ]
  },
  {
   "cell_type": "code",
   "execution_count": null,
   "metadata": {},
   "outputs": [],
   "source": [
    "submission['target'] = clf_6b.predict(x_test_preprocesado)"
   ]
  },
  {
   "cell_type": "markdown",
   "metadata": {},
   "source": [
    "Guardo el archivo .csv para realizar el submit a Kaggle"
   ]
  },
  {
   "cell_type": "code",
   "execution_count": null,
   "metadata": {},
   "outputs": [],
   "source": [
    "submission.to_csv(\"preprocesado_bow_hiper_ridge_regression.csv\", index=False)"
   ]
  },
  {
   "cell_type": "markdown",
   "metadata": {},
   "source": [
    "## 6.2 TF-IDF "
   ]
  },
  {
   "cell_type": "markdown",
   "metadata": {},
   "source": [
    "### 6.2.1 TFIDF - Texto sin Preprocesar - Vectorizador y Modelo sin optimizar Hiperparametros"
   ]
  },
  {
   "cell_type": "code",
   "execution_count": null,
   "metadata": {},
   "outputs": [],
   "source": [
    "#No se setean variantes a los Hiperparametros\n",
    "\n",
    "grid_parametros = {}\n",
    "\n",
    "clf_3 = GridSearchCV(pipeline_tfidf_RR, grid_parametros,cv=5, n_jobs=-1,scoring='f1')\n",
    "clf_3.fit(x_train_original, y_train)\n",
    "\n",
    "print(\"Mejor Score: \", clf_3.best_score_)\n",
    "print(\"Mojores Parametros: \", clf_3.best_params_)"
   ]
  },
  {
   "cell_type": "markdown",
   "metadata": {},
   "source": [
    "Generacion del SUBMIT"
   ]
  },
  {
   "cell_type": "markdown",
   "metadata": {},
   "source": [
    "Leo el archivo .csv modelo que tenemos se utilizar para realizar el submit a Kaggle"
   ]
  },
  {
   "cell_type": "code",
   "execution_count": null,
   "metadata": {},
   "outputs": [],
   "source": [
    "submission = pd.read_csv('../dataset/sample_submission.csv')"
   ]
  },
  {
   "cell_type": "markdown",
   "metadata": {},
   "source": [
    "Creo una nueva columna con los valores que predice el modelo"
   ]
  },
  {
   "cell_type": "code",
   "execution_count": null,
   "metadata": {},
   "outputs": [],
   "source": [
    "submission['target'] = clf_3.predict(x_test_original)"
   ]
  },
  {
   "cell_type": "markdown",
   "metadata": {},
   "source": [
    "Guardo el archivo .csv para realizar el submit a Kaggle"
   ]
  },
  {
   "cell_type": "code",
   "execution_count": null,
   "metadata": {},
   "outputs": [],
   "source": [
    "submission.to_csv(\"original_tfidf_nohiper_ridge_regression.csv\", index=False)"
   ]
  },
  {
   "cell_type": "markdown",
   "metadata": {},
   "source": [
    "### 6.2.2 TFIDF - Texto Preprocesado - Vectorizador y Modelo sin optimizar Hiperparametros"
   ]
  },
  {
   "cell_type": "code",
   "execution_count": null,
   "metadata": {},
   "outputs": [],
   "source": [
    "#No se setean variantes a los Hiperparametros\n",
    "\n",
    "grid_parametros = {}\n",
    "\n",
    "clf_4 = GridSearchCV(pipeline_tfidf_RR, grid_parametros,cv=5, n_jobs=-1,scoring='f1')\n",
    "clf_4.fit(x_train_preprocesado, y_train)\n",
    "\n",
    "print(\"Mejor Score: \", clf_4.best_score_)\n",
    "print(\"Mojores Parametros: \", clf_4.best_params_)"
   ]
  },
  {
   "cell_type": "markdown",
   "metadata": {},
   "source": [
    "Generacion del SUBMIT"
   ]
  },
  {
   "cell_type": "markdown",
   "metadata": {},
   "source": [
    "Leo el archivo .csv modelo que tenemos se utilizar para realizar el submit a Kaggle"
   ]
  },
  {
   "cell_type": "code",
   "execution_count": null,
   "metadata": {},
   "outputs": [],
   "source": [
    "submission = pd.read_csv('../dataset/sample_submission.csv')"
   ]
  },
  {
   "cell_type": "markdown",
   "metadata": {},
   "source": [
    "Creo una nueva columna con los valores que predice el modelo"
   ]
  },
  {
   "cell_type": "code",
   "execution_count": null,
   "metadata": {},
   "outputs": [],
   "source": [
    "submission['target'] = clf_4.predict(x_test_preprocesado)"
   ]
  },
  {
   "cell_type": "markdown",
   "metadata": {},
   "source": [
    "Guardo el archivo .csv para realizar el submit a Kaggle"
   ]
  },
  {
   "cell_type": "code",
   "execution_count": null,
   "metadata": {},
   "outputs": [],
   "source": [
    "submission.to_csv(\"preprocesado_tfidf_nohiper_ridge_regression.csv\", index=False)"
   ]
  },
  {
   "cell_type": "markdown",
   "metadata": {},
   "source": [
    "### 6.2.3 TFIDF - Texto sin Preprocesar - Vectorizador y Modelo optimizando Hiperparametros"
   ]
  },
  {
   "cell_type": "code",
   "execution_count": null,
   "metadata": {},
   "outputs": [],
   "source": [
    "#Opcion a\n",
    "\n",
    "grid_parametros = {'clf__alpha': np.arange(0.1,1.1,0.1),\n",
    "                  'vectorizador__ngram_range': [(1,1),(1,2),(1,3)]}\n",
    "                   \n",
    "clf_7a = GridSearchCV(pipeline_tfidf_RR, grid_parametros,cv=5, n_jobs=-1,scoring='f1')\n",
    "clf_7a.fit(x_train_original, y_train)\n",
    "\n",
    "print(\"Mejor Score: \", clf_7a.best_score_)\n",
    "print(\"Mejores Parametros: \", clf_7a.best_params_)"
   ]
  },
  {
   "cell_type": "code",
   "execution_count": null,
   "metadata": {},
   "outputs": [],
   "source": [
    "#Opcion b\n",
    "\n",
    "grid_parametros = {'clf__alpha': np.arange(1,5.2,0.2),\n",
    "                  'vectorizador__ngram_range': [(1,1),(1,2),(1,3)]}\n",
    "                   \n",
    "clf_7b = GridSearchCV(pipeline_tfidf_RR, grid_parametros,cv=5, n_jobs=-1,scoring='f1')\n",
    "clf_7b.fit(x_train_original, y_train)\n",
    "\n",
    "print(\"Mejor Score: \", clf_7b.best_score_)\n",
    "print(\"Mejores Parametros: \", clf_7b.best_params_)"
   ]
  },
  {
   "cell_type": "code",
   "execution_count": null,
   "metadata": {},
   "outputs": [],
   "source": [
    "#Opcion c\n",
    "\n",
    "grid_parametros = {'clf__alpha': np.arange(0.01,0.1,0.01),\n",
    "                   'vectorizador__ngram_range': [(1,1),(1,2),(1,3)]}\n",
    "                   \n",
    "clf_7c = GridSearchCV(pipeline_tfidf_RR, grid_parametros,cv=5, n_jobs=-1,scoring='f1')\n",
    "clf_7c.fit(x_train_original, y_train)\n",
    "\n",
    "print(\"Mejor Score: \", clf_7c.best_score_)\n",
    "print(\"Mejores Parametros: \", clf_7c.best_params_)"
   ]
  },
  {
   "cell_type": "code",
   "execution_count": null,
   "metadata": {},
   "outputs": [],
   "source": [
    "#Opcion d\n",
    "\n",
    "grid_parametros = {'clf__alpha': np.arange(0.001,0.011,0.001),\n",
    "                   'vectorizador__ngram_range': [(1,1),(1,2),(1,3)]}\n",
    "                   \n",
    "clf_7d = GridSearchCV(pipeline_tfidf_RR, grid_parametros,cv=5, n_jobs=-1,scoring='f1')\n",
    "clf_7d.fit(x_train_original, y_train)\n",
    "\n",
    "print(\"Mejor Score: \", clf_7d.best_score_)\n",
    "print(\"Mejores Parametros: \", clf_7d.best_params_)"
   ]
  },
  {
   "cell_type": "code",
   "execution_count": null,
   "metadata": {},
   "outputs": [],
   "source": [
    "#Opcion e\n",
    "\n",
    "grid_parametros = {'clf__alpha': np.arange(0.0001,0.0011,0.0001),\n",
    "                   'vectorizador__ngram_range': [(1,1),(1,2),(1,3)]}\n",
    "                   \n",
    "clf_7e = GridSearchCV(pipeline_tfidf_RR, grid_parametros,cv=5, n_jobs=-1,scoring='f1')\n",
    "clf_7e.fit(x_train_original, y_train)\n",
    "\n",
    "print(\"Mejor Score: \", clf_7e.best_score_)\n",
    "print(\"Mejores Parametros: \", clf_7e.best_params_)"
   ]
  },
  {
   "cell_type": "code",
   "execution_count": null,
   "metadata": {},
   "outputs": [],
   "source": [
    "#Opcion f\n",
    "\n",
    "grid_parametros = {'clf__alpha': np.arange(0.001,0.011,0.001),\n",
    "                   'vectorizador__ngram_range': [(1,3),(1,4)]}\n",
    "                   \n",
    "clf_7f = GridSearchCV(pipeline_tfidf_RR, grid_parametros,cv=5, n_jobs=-1,scoring='f1')\n",
    "clf_7f.fit(x_train_original, y_train)\n",
    "\n",
    "print(\"Mejor Score: \", clf_7f.best_score_)\n",
    "print(\"Mejores Parametros: \", clf_7f.best_params_)"
   ]
  },
  {
   "cell_type": "code",
   "execution_count": null,
   "metadata": {},
   "outputs": [],
   "source": [
    "#Opcion g\n",
    "\n",
    "grid_parametros = {'clf__alpha': np.arange(0.0001,0.0011,0.0001),\n",
    "                   'vectorizador__ngram_range': [(1,3),(1,4)]}\n",
    "                   \n",
    "clf_7g = GridSearchCV(pipeline_tfidf_RR, grid_parametros,cv=5, n_jobs=-1,scoring='f1')\n",
    "clf_7g.fit(x_train_original, y_train)\n",
    "\n",
    "print(\"Mejor Score: \", clf_7g.best_score_)\n",
    "print(\"Mejores Parametros: \", clf_7g.best_params_)"
   ]
  },
  {
   "cell_type": "markdown",
   "metadata": {},
   "source": [
    "Generacion del SUBMIT"
   ]
  },
  {
   "cell_type": "markdown",
   "metadata": {},
   "source": [
    "Leo el archivo .csv modelo que tenemos se utilizar para realizar el submit a Kaggle"
   ]
  },
  {
   "cell_type": "code",
   "execution_count": null,
   "metadata": {},
   "outputs": [],
   "source": [
    "submission = pd.read_csv('../dataset/sample_submission.csv')"
   ]
  },
  {
   "cell_type": "markdown",
   "metadata": {},
   "source": [
    "Creo una nueva columna con los valores que predice el modelo"
   ]
  },
  {
   "cell_type": "code",
   "execution_count": null,
   "metadata": {},
   "outputs": [],
   "source": [
    "submission['target'] = clf_7a.predict(x_test_original)"
   ]
  },
  {
   "cell_type": "markdown",
   "metadata": {},
   "source": [
    "Guardo el archivo .csv para realizar el submit a Kaggle"
   ]
  },
  {
   "cell_type": "code",
   "execution_count": null,
   "metadata": {},
   "outputs": [],
   "source": [
    "submission.to_csv(\"original_tfidf_hiper_ridge_regression.csv\", index=False)"
   ]
  },
  {
   "cell_type": "markdown",
   "metadata": {},
   "source": [
    "### 6.2.4 TFIDF - Texto Preprocesado - Vectorizador y Modelo optimizando Hiperparametros"
   ]
  },
  {
   "cell_type": "code",
   "execution_count": null,
   "metadata": {},
   "outputs": [],
   "source": [
    "#Opcion a\n",
    "\n",
    "grid_parametros = {'clf__alpha': np.arange(0.1,1.1,0.1),\n",
    "                  'vectorizador__ngram_range': [(1,1),(1,2),(1,3)]}\n",
    "                   \n",
    "clf_8a = GridSearchCV(pipeline_tfidf_RR, grid_parametros,cv=5, n_jobs=-1,scoring='f1')\n",
    "clf_8a.fit(x_train_preprocesado, y_train)\n",
    "\n",
    "print(\"Mejor Score: \", clf_8a.best_score_)\n",
    "print(\"Mejores Parametros: \", clf_8a.best_params_)"
   ]
  },
  {
   "cell_type": "code",
   "execution_count": null,
   "metadata": {},
   "outputs": [],
   "source": [
    "#Opcion b\n",
    "\n",
    "grid_parametros = {'clf__alpha': np.arange(1,5.2,0.2),\n",
    "                  'vectorizador__ngram_range': [(1,1),(1,2),(1,3)]}\n",
    "                   \n",
    "clf_8b = GridSearchCV(pipeline_tfidf_RR, grid_parametros,cv=5, n_jobs=-1,scoring='f1')\n",
    "clf_8b.fit(x_train_preprocesado, y_train)\n",
    "\n",
    "print(\"Mejor Score: \", clf_8b.best_score_)\n",
    "print(\"Mejores Parametros: \", clf_8b.best_params_)"
   ]
  },
  {
   "cell_type": "code",
   "execution_count": null,
   "metadata": {},
   "outputs": [],
   "source": [
    "#Opcion c\n",
    "\n",
    "grid_parametros = {'clf__alpha': np.arange(0.01,0.1,0.01),\n",
    "                   'vectorizador__ngram_range': [(1,1),(1,2),(1,3)]}\n",
    "                   \n",
    "clf_8c = GridSearchCV(pipeline_tfidf_RR, grid_parametros,cv=5, n_jobs=-1,scoring='f1')\n",
    "clf_8c.fit(x_train_preprocesado, y_train)\n",
    "\n",
    "print(\"Mejor Score: \", clf_8c.best_score_)\n",
    "print(\"Mejores Parametros: \", clf_8c.best_params_)"
   ]
  },
  {
   "cell_type": "code",
   "execution_count": null,
   "metadata": {},
   "outputs": [],
   "source": [
    "#Opcion d\n",
    "\n",
    "grid_parametros = {'clf__alpha': np.arange(0.001,0.011,0.001),\n",
    "                   'vectorizador__ngram_range': [(1,1),(1,2),(1,3)]}\n",
    "                   \n",
    "clf_8d = GridSearchCV(pipeline_tfidf_RR, grid_parametros,cv=5, n_jobs=-1,scoring='f1')\n",
    "clf_8d.fit(x_train_preprocesado, y_train)\n",
    "\n",
    "print(\"Mejor Score: \", clf_8d.best_score_)\n",
    "print(\"Mejores Parametros: \", clf_8d.best_params_)"
   ]
  },
  {
   "cell_type": "code",
   "execution_count": null,
   "metadata": {},
   "outputs": [],
   "source": [
    "#Opcion e\n",
    "\n",
    "grid_parametros = {'clf__alpha': np.arange(0.0001,0.0011,0.0001),\n",
    "                   'vectorizador__ngram_range': [(1,1),(1,2),(1,3)]}\n",
    "                   \n",
    "clf_8e = GridSearchCV(pipeline_tfidf_RR, grid_parametros,cv=5, n_jobs=-1,scoring='f1')\n",
    "clf_8e.fit(x_train_preprocesado, y_train)\n",
    "\n",
    "print(\"Mejor Score: \", clf_8e.best_score_)\n",
    "print(\"Mejores Parametros: \", clf_8e.best_params_)"
   ]
  },
  {
   "cell_type": "code",
   "execution_count": null,
   "metadata": {},
   "outputs": [],
   "source": [
    "#Opcion f\n",
    "\n",
    "grid_parametros = {'clf__alpha': np.arange(0.001,0.011,0.001),\n",
    "                   'vectorizador__ngram_range': [(1,3),(1,4)]}\n",
    "                   \n",
    "clf_8f = GridSearchCV(pipeline_tfidf_RR, grid_parametros,cv=5, n_jobs=-1,scoring='f1')\n",
    "clf_8f.fit(x_train_preprocesado, y_train)\n",
    "\n",
    "print(\"Mejor Score: \", clf_8f.best_score_)\n",
    "print(\"Mejores Parametros: \", clf_8f.best_params_)"
   ]
  },
  {
   "cell_type": "code",
   "execution_count": null,
   "metadata": {},
   "outputs": [],
   "source": [
    "#Opcion g\n",
    "\n",
    "grid_parametros = {'clf__alpha': np.arange(0.0001,0.0011,0.0001),\n",
    "                   'vectorizador__ngram_range': [(1,3),(1,4)]}\n",
    "                   \n",
    "clf_8g = GridSearchCV(pipeline_tfidf_RR, grid_parametros,cv=5, n_jobs=-1,scoring='f1')\n",
    "clf_8g.fit(x_train_preprocesado, y_train)\n",
    "\n",
    "print(\"Mejor Score: \", clf_8g.best_score_)\n",
    "print(\"Mejores Parametros: \", clf_8g.best_params_)"
   ]
  },
  {
   "cell_type": "markdown",
   "metadata": {},
   "source": [
    "Generacion del SUBMIT"
   ]
  },
  {
   "cell_type": "markdown",
   "metadata": {},
   "source": [
    "Leo el archivo .csv modelo que tenemos se utilizar para realizar el submit a Kaggle"
   ]
  },
  {
   "cell_type": "code",
   "execution_count": null,
   "metadata": {},
   "outputs": [],
   "source": [
    "submission = pd.read_csv('../dataset/sample_submission.csv')"
   ]
  },
  {
   "cell_type": "markdown",
   "metadata": {},
   "source": [
    "Creo una nueva columna con los valores que predice el modelo"
   ]
  },
  {
   "cell_type": "code",
   "execution_count": null,
   "metadata": {},
   "outputs": [],
   "source": [
    "submission['target'] = clf_8a.predict(x_test_preprocesado)"
   ]
  },
  {
   "cell_type": "markdown",
   "metadata": {},
   "source": [
    "Guardo el archivo .csv para realizar el submit a Kaggle"
   ]
  },
  {
   "cell_type": "code",
   "execution_count": null,
   "metadata": {},
   "outputs": [],
   "source": [
    "submission.to_csv(\"preprocesado_tfidf_hiper_ridge_regression.csv\", index=False)"
   ]
  }
 ],
 "metadata": {
  "kernelspec": {
   "display_name": "Python 3",
   "language": "python",
   "name": "python3"
  },
  "language_info": {
   "codemirror_mode": {
    "name": "ipython",
    "version": 3
   },
   "file_extension": ".py",
   "mimetype": "text/x-python",
   "name": "python",
   "nbconvert_exporter": "python",
   "pygments_lexer": "ipython3",
   "version": "3.7.6"
  }
 },
 "nbformat": 4,
 "nbformat_minor": 2
}
